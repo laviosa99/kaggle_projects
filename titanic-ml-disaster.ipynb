{
 "cells": [
  {
   "cell_type": "code",
   "execution_count": 1,
   "id": "9e40e820",
   "metadata": {
    "_cell_guid": "b1076dfc-b9ad-4769-8c92-a6c4dae69d19",
    "_uuid": "8f2839f25d086af736a60e9eeb907d3b93b6e0e5",
    "execution": {
     "iopub.execute_input": "2025-08-17T23:18:07.534322Z",
     "iopub.status.busy": "2025-08-17T23:18:07.533922Z",
     "iopub.status.idle": "2025-08-17T23:18:09.435031Z",
     "shell.execute_reply": "2025-08-17T23:18:09.433827Z"
    },
    "papermill": {
     "duration": 1.907052,
     "end_time": "2025-08-17T23:18:09.436813",
     "exception": false,
     "start_time": "2025-08-17T23:18:07.529761",
     "status": "completed"
    },
    "tags": []
   },
   "outputs": [
    {
     "name": "stdout",
     "output_type": "stream",
     "text": [
      "/kaggle/input/titanic/train.csv\n",
      "/kaggle/input/titanic/test.csv\n",
      "/kaggle/input/titanic/gender_submission.csv\n"
     ]
    }
   ],
   "source": [
    "# This Python 3 environment comes with many helpful analytics libraries installed\n",
    "# It is defined by the kaggle/python Docker image: https://github.com/kaggle/docker-python\n",
    "# For example, here's several helpful packages to load\n",
    "\n",
    "import numpy as np # linear algebra\n",
    "import pandas as pd # data processing, CSV file I/O (e.g. pd.read_csv)\n",
    "import matplotlib.pyplot as plt\n",
    "# Input data files are available in the read-only \"../input/\" directory\n",
    "# For example, running this (by clicking run or pressing Shift+Enter) will list all files under the input directory\n",
    "\n",
    "import os\n",
    "for dirname, _, filenames in os.walk('/kaggle/input'):\n",
    "    for filename in filenames:\n",
    "        print(os.path.join(dirname, filename))\n",
    "\n",
    "# You can write up to 20GB to the current directory (/kaggle/working/) that gets preserved as output when you create a version using \"Save & Run All\" \n",
    "# You can also write temporary files to /kaggle/temp/, but they won't be saved outside of the current session"
   ]
  },
  {
   "cell_type": "code",
   "execution_count": 2,
   "id": "7ad5a359",
   "metadata": {
    "execution": {
     "iopub.execute_input": "2025-08-17T23:18:09.443333Z",
     "iopub.status.busy": "2025-08-17T23:18:09.442896Z",
     "iopub.status.idle": "2025-08-17T23:18:09.500604Z",
     "shell.execute_reply": "2025-08-17T23:18:09.499662Z"
    },
    "papermill": {
     "duration": 0.062554,
     "end_time": "2025-08-17T23:18:09.502295",
     "exception": false,
     "start_time": "2025-08-17T23:18:09.439741",
     "status": "completed"
    },
    "tags": []
   },
   "outputs": [
    {
     "data": {
      "text/html": [
       "<div>\n",
       "<style scoped>\n",
       "    .dataframe tbody tr th:only-of-type {\n",
       "        vertical-align: middle;\n",
       "    }\n",
       "\n",
       "    .dataframe tbody tr th {\n",
       "        vertical-align: top;\n",
       "    }\n",
       "\n",
       "    .dataframe thead th {\n",
       "        text-align: right;\n",
       "    }\n",
       "</style>\n",
       "<table border=\"1\" class=\"dataframe\">\n",
       "  <thead>\n",
       "    <tr style=\"text-align: right;\">\n",
       "      <th></th>\n",
       "      <th>PassengerId</th>\n",
       "      <th>Survived</th>\n",
       "      <th>Pclass</th>\n",
       "      <th>Name</th>\n",
       "      <th>Sex</th>\n",
       "      <th>Age</th>\n",
       "      <th>SibSp</th>\n",
       "      <th>Parch</th>\n",
       "      <th>Ticket</th>\n",
       "      <th>Fare</th>\n",
       "      <th>Cabin</th>\n",
       "      <th>Embarked</th>\n",
       "    </tr>\n",
       "  </thead>\n",
       "  <tbody>\n",
       "    <tr>\n",
       "      <th>0</th>\n",
       "      <td>1</td>\n",
       "      <td>0</td>\n",
       "      <td>3</td>\n",
       "      <td>Braund, Mr. Owen Harris</td>\n",
       "      <td>male</td>\n",
       "      <td>22.0</td>\n",
       "      <td>1</td>\n",
       "      <td>0</td>\n",
       "      <td>A/5 21171</td>\n",
       "      <td>7.2500</td>\n",
       "      <td>NaN</td>\n",
       "      <td>S</td>\n",
       "    </tr>\n",
       "    <tr>\n",
       "      <th>1</th>\n",
       "      <td>2</td>\n",
       "      <td>1</td>\n",
       "      <td>1</td>\n",
       "      <td>Cumings, Mrs. John Bradley (Florence Briggs Th...</td>\n",
       "      <td>female</td>\n",
       "      <td>38.0</td>\n",
       "      <td>1</td>\n",
       "      <td>0</td>\n",
       "      <td>PC 17599</td>\n",
       "      <td>71.2833</td>\n",
       "      <td>C85</td>\n",
       "      <td>C</td>\n",
       "    </tr>\n",
       "    <tr>\n",
       "      <th>2</th>\n",
       "      <td>3</td>\n",
       "      <td>1</td>\n",
       "      <td>3</td>\n",
       "      <td>Heikkinen, Miss. Laina</td>\n",
       "      <td>female</td>\n",
       "      <td>26.0</td>\n",
       "      <td>0</td>\n",
       "      <td>0</td>\n",
       "      <td>STON/O2. 3101282</td>\n",
       "      <td>7.9250</td>\n",
       "      <td>NaN</td>\n",
       "      <td>S</td>\n",
       "    </tr>\n",
       "    <tr>\n",
       "      <th>3</th>\n",
       "      <td>4</td>\n",
       "      <td>1</td>\n",
       "      <td>1</td>\n",
       "      <td>Futrelle, Mrs. Jacques Heath (Lily May Peel)</td>\n",
       "      <td>female</td>\n",
       "      <td>35.0</td>\n",
       "      <td>1</td>\n",
       "      <td>0</td>\n",
       "      <td>113803</td>\n",
       "      <td>53.1000</td>\n",
       "      <td>C123</td>\n",
       "      <td>S</td>\n",
       "    </tr>\n",
       "    <tr>\n",
       "      <th>4</th>\n",
       "      <td>5</td>\n",
       "      <td>0</td>\n",
       "      <td>3</td>\n",
       "      <td>Allen, Mr. William Henry</td>\n",
       "      <td>male</td>\n",
       "      <td>35.0</td>\n",
       "      <td>0</td>\n",
       "      <td>0</td>\n",
       "      <td>373450</td>\n",
       "      <td>8.0500</td>\n",
       "      <td>NaN</td>\n",
       "      <td>S</td>\n",
       "    </tr>\n",
       "  </tbody>\n",
       "</table>\n",
       "</div>"
      ],
      "text/plain": [
       "   PassengerId  Survived  Pclass  \\\n",
       "0            1         0       3   \n",
       "1            2         1       1   \n",
       "2            3         1       3   \n",
       "3            4         1       1   \n",
       "4            5         0       3   \n",
       "\n",
       "                                                Name     Sex   Age  SibSp  \\\n",
       "0                            Braund, Mr. Owen Harris    male  22.0      1   \n",
       "1  Cumings, Mrs. John Bradley (Florence Briggs Th...  female  38.0      1   \n",
       "2                             Heikkinen, Miss. Laina  female  26.0      0   \n",
       "3       Futrelle, Mrs. Jacques Heath (Lily May Peel)  female  35.0      1   \n",
       "4                           Allen, Mr. William Henry    male  35.0      0   \n",
       "\n",
       "   Parch            Ticket     Fare Cabin Embarked  \n",
       "0      0         A/5 21171   7.2500   NaN        S  \n",
       "1      0          PC 17599  71.2833   C85        C  \n",
       "2      0  STON/O2. 3101282   7.9250   NaN        S  \n",
       "3      0            113803  53.1000  C123        S  \n",
       "4      0            373450   8.0500   NaN        S  "
      ]
     },
     "execution_count": 2,
     "metadata": {},
     "output_type": "execute_result"
    }
   ],
   "source": [
    "train_df = pd.read_csv('/kaggle/input/titanic/train.csv')\n",
    "test_df = pd.read_csv('/kaggle/input/titanic/test.csv')\n",
    "train_df.head()"
   ]
  },
  {
   "cell_type": "code",
   "execution_count": 3,
   "id": "5b47f10e",
   "metadata": {
    "execution": {
     "iopub.execute_input": "2025-08-17T23:18:09.509287Z",
     "iopub.status.busy": "2025-08-17T23:18:09.508420Z",
     "iopub.status.idle": "2025-08-17T23:18:09.523855Z",
     "shell.execute_reply": "2025-08-17T23:18:09.522656Z"
    },
    "papermill": {
     "duration": 0.020413,
     "end_time": "2025-08-17T23:18:09.525423",
     "exception": false,
     "start_time": "2025-08-17T23:18:09.505010",
     "status": "completed"
    },
    "tags": []
   },
   "outputs": [
    {
     "name": "stdout",
     "output_type": "stream",
     "text": [
      "Percentage of women that survived: 0.74%\n",
      "Percentage of males that survived: 0.19%\n"
     ]
    }
   ],
   "source": [
    "female = train_df.loc[train_df['Sex'] == 'female']['Survived']\n",
    "percent_female = sum(female) / len(female)\n",
    "print(f'Percentage of women that survived: {percent_female:0.2f}%')\n",
    "male = train_df.loc[train_df['Sex'] == 'male']['Survived']\n",
    "percent_male = sum(male) / len(male)\n",
    "print(f'Percentage of males that survived: {percent_male:0.2f}%')"
   ]
  },
  {
   "cell_type": "code",
   "execution_count": 4,
   "id": "4d288bf1",
   "metadata": {
    "execution": {
     "iopub.execute_input": "2025-08-17T23:18:09.532607Z",
     "iopub.status.busy": "2025-08-17T23:18:09.532266Z",
     "iopub.status.idle": "2025-08-17T23:18:11.193948Z",
     "shell.execute_reply": "2025-08-17T23:18:11.192878Z"
    },
    "papermill": {
     "duration": 1.667257,
     "end_time": "2025-08-17T23:18:11.195824",
     "exception": false,
     "start_time": "2025-08-17T23:18:09.528567",
     "status": "completed"
    },
    "tags": []
   },
   "outputs": [],
   "source": [
    "# Create x_train and y_train\n",
    "from sklearn.model_selection import train_test_split\n",
    "random_state = 1234\n",
    "y = train_df['Survived']\n",
    "\n",
    "# Select features\n",
    "features = ['Pclass', 'Sex', 'Age', 'SibSp', 'Parch', 'Fare']\n",
    "x = pd.get_dummies(train_df[features])\n",
    "\n",
    "# Create test dataset \n",
    "x_test = pd.get_dummies(test_df[features])"
   ]
  },
  {
   "cell_type": "markdown",
   "id": "f97248a5",
   "metadata": {
    "papermill": {
     "duration": 0.002356,
     "end_time": "2025-08-17T23:18:11.200983",
     "exception": false,
     "start_time": "2025-08-17T23:18:11.198627",
     "status": "completed"
    },
    "tags": []
   },
   "source": [
    "# Analysis"
   ]
  },
  {
   "cell_type": "code",
   "execution_count": 5,
   "id": "a4228cb3",
   "metadata": {
    "execution": {
     "iopub.execute_input": "2025-08-17T23:18:11.207294Z",
     "iopub.status.busy": "2025-08-17T23:18:11.206813Z",
     "iopub.status.idle": "2025-08-17T23:18:13.409944Z",
     "shell.execute_reply": "2025-08-17T23:18:13.408809Z"
    },
    "papermill": {
     "duration": 2.208392,
     "end_time": "2025-08-17T23:18:13.411757",
     "exception": false,
     "start_time": "2025-08-17T23:18:11.203365",
     "status": "completed"
    },
    "tags": []
   },
   "outputs": [],
   "source": [
    "from sklearn.ensemble import RandomForestClassifier\n",
    "import sklearn.impute\n",
    "import sklearn.pipeline\n",
    "\n",
    "def make_random_forest_pipeline(n_estimators=1000, max_depth=5, random=1234): \n",
    "    pipeline = sklearn.pipeline.Pipeline(\n",
    "        steps=[\n",
    "            ('rescaler', sklearn.preprocessing.MinMaxScaler()), \n",
    "            ('imputer', sklearn.impute.KNNImputer()), \n",
    "            ('random_forest', RandomForestClassifier(n_estimators=n_estimators, max_depth=max_depth, random_state=random))\n",
    "        ]\n",
    "    )\n",
    "    return pipeline\n",
    "    \n",
    "# Make pipeline\n",
    "pipe = make_random_forest_pipeline()\n",
    "pipe.fit(x, y)\n",
    "predictions = pipe.predict(x_test)\n",
    "\n",
    "# Output the predictions\n",
    "output = pd.DataFrame({'PassengerId': test_df.PassengerId, 'Survived': predictions})\n",
    "output.to_csv('submission.csv', index=False)"
   ]
  },
  {
   "cell_type": "code",
   "execution_count": 6,
   "id": "3baa2273",
   "metadata": {
    "execution": {
     "iopub.execute_input": "2025-08-17T23:18:13.418356Z",
     "iopub.status.busy": "2025-08-17T23:18:13.418074Z",
     "iopub.status.idle": "2025-08-17T23:18:13.427577Z",
     "shell.execute_reply": "2025-08-17T23:18:13.426845Z"
    },
    "papermill": {
     "duration": 0.014506,
     "end_time": "2025-08-17T23:18:13.429005",
     "exception": false,
     "start_time": "2025-08-17T23:18:13.414499",
     "status": "completed"
    },
    "tags": []
   },
   "outputs": [
    {
     "data": {
      "text/html": [
       "<div>\n",
       "<style scoped>\n",
       "    .dataframe tbody tr th:only-of-type {\n",
       "        vertical-align: middle;\n",
       "    }\n",
       "\n",
       "    .dataframe tbody tr th {\n",
       "        vertical-align: top;\n",
       "    }\n",
       "\n",
       "    .dataframe thead th {\n",
       "        text-align: right;\n",
       "    }\n",
       "</style>\n",
       "<table border=\"1\" class=\"dataframe\">\n",
       "  <thead>\n",
       "    <tr style=\"text-align: right;\">\n",
       "      <th></th>\n",
       "      <th>PassengerId</th>\n",
       "      <th>Survived</th>\n",
       "    </tr>\n",
       "  </thead>\n",
       "  <tbody>\n",
       "    <tr>\n",
       "      <th>0</th>\n",
       "      <td>892</td>\n",
       "      <td>0</td>\n",
       "    </tr>\n",
       "    <tr>\n",
       "      <th>1</th>\n",
       "      <td>893</td>\n",
       "      <td>0</td>\n",
       "    </tr>\n",
       "    <tr>\n",
       "      <th>2</th>\n",
       "      <td>894</td>\n",
       "      <td>0</td>\n",
       "    </tr>\n",
       "    <tr>\n",
       "      <th>3</th>\n",
       "      <td>895</td>\n",
       "      <td>0</td>\n",
       "    </tr>\n",
       "    <tr>\n",
       "      <th>4</th>\n",
       "      <td>896</td>\n",
       "      <td>1</td>\n",
       "    </tr>\n",
       "    <tr>\n",
       "      <th>...</th>\n",
       "      <td>...</td>\n",
       "      <td>...</td>\n",
       "    </tr>\n",
       "    <tr>\n",
       "      <th>413</th>\n",
       "      <td>1305</td>\n",
       "      <td>0</td>\n",
       "    </tr>\n",
       "    <tr>\n",
       "      <th>414</th>\n",
       "      <td>1306</td>\n",
       "      <td>1</td>\n",
       "    </tr>\n",
       "    <tr>\n",
       "      <th>415</th>\n",
       "      <td>1307</td>\n",
       "      <td>0</td>\n",
       "    </tr>\n",
       "    <tr>\n",
       "      <th>416</th>\n",
       "      <td>1308</td>\n",
       "      <td>0</td>\n",
       "    </tr>\n",
       "    <tr>\n",
       "      <th>417</th>\n",
       "      <td>1309</td>\n",
       "      <td>0</td>\n",
       "    </tr>\n",
       "  </tbody>\n",
       "</table>\n",
       "<p>418 rows × 2 columns</p>\n",
       "</div>"
      ],
      "text/plain": [
       "     PassengerId  Survived\n",
       "0            892         0\n",
       "1            893         0\n",
       "2            894         0\n",
       "3            895         0\n",
       "4            896         1\n",
       "..           ...       ...\n",
       "413         1305         0\n",
       "414         1306         1\n",
       "415         1307         0\n",
       "416         1308         0\n",
       "417         1309         0\n",
       "\n",
       "[418 rows x 2 columns]"
      ]
     },
     "execution_count": 6,
     "metadata": {},
     "output_type": "execute_result"
    }
   ],
   "source": [
    "output"
   ]
  },
  {
   "cell_type": "code",
   "execution_count": null,
   "id": "ffcc53d7",
   "metadata": {
    "papermill": {
     "duration": 0.002434,
     "end_time": "2025-08-17T23:18:13.434284",
     "exception": false,
     "start_time": "2025-08-17T23:18:13.431850",
     "status": "completed"
    },
    "tags": []
   },
   "outputs": [],
   "source": []
  }
 ],
 "metadata": {
  "kaggle": {
   "accelerator": "none",
   "dataSources": [
    {
     "databundleVersionId": 26502,
     "sourceId": 3136,
     "sourceType": "competition"
    }
   ],
   "dockerImageVersionId": 31089,
   "isGpuEnabled": false,
   "isInternetEnabled": true,
   "language": "python",
   "sourceType": "notebook"
  },
  "kernelspec": {
   "display_name": "Python 3",
   "language": "python",
   "name": "python3"
  },
  "language_info": {
   "codemirror_mode": {
    "name": "ipython",
    "version": 3
   },
   "file_extension": ".py",
   "mimetype": "text/x-python",
   "name": "python",
   "nbconvert_exporter": "python",
   "pygments_lexer": "ipython3",
   "version": "3.11.13"
  },
  "papermill": {
   "default_parameters": {},
   "duration": 11.557486,
   "end_time": "2025-08-17T23:18:14.156717",
   "environment_variables": {},
   "exception": null,
   "input_path": "__notebook__.ipynb",
   "output_path": "__notebook__.ipynb",
   "parameters": {},
   "start_time": "2025-08-17T23:18:02.599231",
   "version": "2.6.0"
  }
 },
 "nbformat": 4,
 "nbformat_minor": 5
}
