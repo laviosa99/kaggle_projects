{
 "cells": [
  {
   "cell_type": "code",
   "execution_count": 1,
   "id": "16b5b0b8",
   "metadata": {
    "execution": {
     "iopub.execute_input": "2025-09-09T16:44:34.419208Z",
     "iopub.status.busy": "2025-09-09T16:44:34.418948Z",
     "iopub.status.idle": "2025-09-09T16:44:39.268987Z",
     "shell.execute_reply": "2025-09-09T16:44:39.267878Z"
    },
    "papermill": {
     "duration": 4.861119,
     "end_time": "2025-09-09T16:44:39.270319",
     "exception": false,
     "start_time": "2025-09-09T16:44:34.409200",
     "status": "completed"
    },
    "tags": []
   },
   "outputs": [
    {
     "name": "stdout",
     "output_type": "stream",
     "text": [
      "Collecting unidecode\r\n",
      "  Downloading Unidecode-1.4.0-py3-none-any.whl.metadata (13 kB)\r\n",
      "Downloading Unidecode-1.4.0-py3-none-any.whl (235 kB)\r\n",
      "\u001b[2K   \u001b[90m━━━━━━━━━━━━━━━━━━━━━━━━━━━━━━━━━━━━━━━━\u001b[0m \u001b[32m235.8/235.8 kB\u001b[0m \u001b[31m9.6 MB/s\u001b[0m eta \u001b[36m0:00:00\u001b[0m\r\n",
      "\u001b[?25hInstalling collected packages: unidecode\r\n",
      "Successfully installed unidecode-1.4.0\r\n",
      "Note: you may need to restart the kernel to use updated packages.\n"
     ]
    }
   ],
   "source": [
    "pip install unidecode"
   ]
  },
  {
   "cell_type": "code",
   "execution_count": 2,
   "id": "93cbfddf",
   "metadata": {
    "_cell_guid": "b1076dfc-b9ad-4769-8c92-a6c4dae69d19",
    "_uuid": "8f2839f25d086af736a60e9eeb907d3b93b6e0e5",
    "execution": {
     "iopub.execute_input": "2025-09-09T16:44:39.285376Z",
     "iopub.status.busy": "2025-09-09T16:44:39.284733Z",
     "iopub.status.idle": "2025-09-09T16:44:43.092968Z",
     "shell.execute_reply": "2025-09-09T16:44:43.092091Z"
    },
    "papermill": {
     "duration": 3.817052,
     "end_time": "2025-09-09T16:44:43.094341",
     "exception": false,
     "start_time": "2025-09-09T16:44:39.277289",
     "status": "completed"
    },
    "tags": []
   },
   "outputs": [
    {
     "name": "stdout",
     "output_type": "stream",
     "text": [
      "/kaggle/input/scrapped-lyrics-from-6-genres/artists-data.csv\n",
      "/kaggle/input/scrapped-lyrics-from-6-genres/lyrics-data.csv\n"
     ]
    }
   ],
   "source": [
    "# This Python 3 environment comes with many helpful analytics libraries installed\n",
    "# It is defined by the kaggle/python Docker image: https://github.com/kaggle/docker-python\n",
    "# For example, here's several helpful packages to load\n",
    "\n",
    "import numpy as np # linear algebra\n",
    "import pandas as pd # data processing, CSV file I/O (e.g. pd.read_csv)\n",
    "\n",
    "from datetime import datetime\n",
    "from nltk.corpus import stopwords\n",
    "import re\n",
    "from nltk import word_tokenize\n",
    "from nltk.stem import WordNetLemmatizer as wnl\n",
    "from unidecode import unidecode\n",
    "from string import punctuation\n",
    "\n",
    "from sklearn.preprocessing import MultiLabelBinarizer\n",
    "from sklearn.feature_extraction.text import TfidfVectorizer\n",
    "\n",
    "# Input data files are available in the read-only \"../input/\" directory\n",
    "# For example, running this (by clicking run or pressing Shift+Enter) will list all files under the input directory\n",
    "\n",
    "import os\n",
    "for dirname, _, filenames in os.walk('/kaggle/input'):\n",
    "    for filename in filenames:\n",
    "        print(os.path.join(dirname, filename))\n",
    "\n",
    "# You can write up to 20GB to the current directory (/kaggle/working/) that gets preserved as output when you create a version using \"Save & Run All\" \n",
    "# You can also write temporary files to /kaggle/temp/, but they won't be saved outside of the current session"
   ]
  },
  {
   "cell_type": "markdown",
   "id": "aa8397f7",
   "metadata": {
    "papermill": {
     "duration": 0.006164,
     "end_time": "2025-09-09T16:44:43.107102",
     "exception": false,
     "start_time": "2025-09-09T16:44:43.100938",
     "status": "completed"
    },
    "tags": []
   },
   "source": [
    "Load the csv files into Pandas DataFrames"
   ]
  },
  {
   "cell_type": "code",
   "execution_count": 3,
   "id": "2b732a49",
   "metadata": {
    "execution": {
     "iopub.execute_input": "2025-09-09T16:44:43.121427Z",
     "iopub.status.busy": "2025-09-09T16:44:43.121089Z",
     "iopub.status.idle": "2025-09-09T16:44:54.549815Z",
     "shell.execute_reply": "2025-09-09T16:44:54.549223Z"
    },
    "papermill": {
     "duration": 11.43709,
     "end_time": "2025-09-09T16:44:54.551200",
     "exception": false,
     "start_time": "2025-09-09T16:44:43.114110",
     "status": "completed"
    },
    "tags": []
   },
   "outputs": [],
   "source": [
    "artist_df = pd.read_csv(\"/kaggle/input/scrapped-lyrics-from-6-genres/artists-data.csv\")\n",
    "lyrics_df = pd.read_csv(\"/kaggle/input/scrapped-lyrics-from-6-genres/lyrics-data.csv\")"
   ]
  },
  {
   "cell_type": "markdown",
   "id": "3b973a43",
   "metadata": {
    "papermill": {
     "duration": 0.008051,
     "end_time": "2025-09-09T16:44:54.566203",
     "exception": false,
     "start_time": "2025-09-09T16:44:54.558152",
     "status": "completed"
    },
    "tags": []
   },
   "source": [
    "Take a look at artist_df"
   ]
  },
  {
   "cell_type": "code",
   "execution_count": 4,
   "id": "4950b29e",
   "metadata": {
    "execution": {
     "iopub.execute_input": "2025-09-09T16:44:54.580053Z",
     "iopub.status.busy": "2025-09-09T16:44:54.579782Z",
     "iopub.status.idle": "2025-09-09T16:44:54.603057Z",
     "shell.execute_reply": "2025-09-09T16:44:54.602438Z"
    },
    "papermill": {
     "duration": 0.031665,
     "end_time": "2025-09-09T16:44:54.604327",
     "exception": false,
     "start_time": "2025-09-09T16:44:54.572662",
     "status": "completed"
    },
    "tags": []
   },
   "outputs": [
    {
     "data": {
      "text/html": [
       "<div>\n",
       "<style scoped>\n",
       "    .dataframe tbody tr th:only-of-type {\n",
       "        vertical-align: middle;\n",
       "    }\n",
       "\n",
       "    .dataframe tbody tr th {\n",
       "        vertical-align: top;\n",
       "    }\n",
       "\n",
       "    .dataframe thead th {\n",
       "        text-align: right;\n",
       "    }\n",
       "</style>\n",
       "<table border=\"1\" class=\"dataframe\">\n",
       "  <thead>\n",
       "    <tr style=\"text-align: right;\">\n",
       "      <th></th>\n",
       "      <th>Artist</th>\n",
       "      <th>Genres</th>\n",
       "      <th>Songs</th>\n",
       "      <th>Popularity</th>\n",
       "      <th>Link</th>\n",
       "    </tr>\n",
       "  </thead>\n",
       "  <tbody>\n",
       "    <tr>\n",
       "      <th>0</th>\n",
       "      <td>Ivete Sangalo</td>\n",
       "      <td>Pop; Axé; Romântico</td>\n",
       "      <td>313.0</td>\n",
       "      <td>4.4</td>\n",
       "      <td>/ivete-sangalo/</td>\n",
       "    </tr>\n",
       "    <tr>\n",
       "      <th>1</th>\n",
       "      <td>Chiclete com Banana</td>\n",
       "      <td>Axé</td>\n",
       "      <td>268.0</td>\n",
       "      <td>3.8</td>\n",
       "      <td>/chiclete-com-banana/</td>\n",
       "    </tr>\n",
       "    <tr>\n",
       "      <th>2</th>\n",
       "      <td>Banda Eva</td>\n",
       "      <td>Axé; Romântico; Reggae</td>\n",
       "      <td>215.0</td>\n",
       "      <td>2.3</td>\n",
       "      <td>/banda-eva/</td>\n",
       "    </tr>\n",
       "    <tr>\n",
       "      <th>3</th>\n",
       "      <td>É O Tchan</td>\n",
       "      <td>Axé</td>\n",
       "      <td>129.0</td>\n",
       "      <td>1.6</td>\n",
       "      <td>/e-o-tchan/</td>\n",
       "    </tr>\n",
       "    <tr>\n",
       "      <th>4</th>\n",
       "      <td>Claudia Leitte</td>\n",
       "      <td>Pop; Axé; Romântico</td>\n",
       "      <td>167.0</td>\n",
       "      <td>1.5</td>\n",
       "      <td>/claudia-leitte/</td>\n",
       "    </tr>\n",
       "  </tbody>\n",
       "</table>\n",
       "</div>"
      ],
      "text/plain": [
       "                Artist                  Genres  Songs  Popularity  \\\n",
       "0        Ivete Sangalo     Pop; Axé; Romântico  313.0         4.4   \n",
       "1  Chiclete com Banana                     Axé  268.0         3.8   \n",
       "2            Banda Eva  Axé; Romântico; Reggae  215.0         2.3   \n",
       "3            É O Tchan                     Axé  129.0         1.6   \n",
       "4       Claudia Leitte     Pop; Axé; Romântico  167.0         1.5   \n",
       "\n",
       "                    Link  \n",
       "0        /ivete-sangalo/  \n",
       "1  /chiclete-com-banana/  \n",
       "2            /banda-eva/  \n",
       "3            /e-o-tchan/  \n",
       "4       /claudia-leitte/  "
      ]
     },
     "execution_count": 4,
     "metadata": {},
     "output_type": "execute_result"
    }
   ],
   "source": [
    "artist_df.head()"
   ]
  },
  {
   "cell_type": "markdown",
   "id": "db49cb38",
   "metadata": {
    "papermill": {
     "duration": 0.006341,
     "end_time": "2025-09-09T16:44:54.617055",
     "exception": false,
     "start_time": "2025-09-09T16:44:54.610714",
     "status": "completed"
    },
    "tags": []
   },
   "source": [
    "Take a look at lyrics_df"
   ]
  },
  {
   "cell_type": "code",
   "execution_count": 5,
   "id": "d62ea0d2",
   "metadata": {
    "execution": {
     "iopub.execute_input": "2025-09-09T16:44:54.630574Z",
     "iopub.status.busy": "2025-09-09T16:44:54.630010Z",
     "iopub.status.idle": "2025-09-09T16:44:54.637751Z",
     "shell.execute_reply": "2025-09-09T16:44:54.637211Z"
    },
    "papermill": {
     "duration": 0.015511,
     "end_time": "2025-09-09T16:44:54.638730",
     "exception": false,
     "start_time": "2025-09-09T16:44:54.623219",
     "status": "completed"
    },
    "tags": []
   },
   "outputs": [
    {
     "data": {
      "text/html": [
       "<div>\n",
       "<style scoped>\n",
       "    .dataframe tbody tr th:only-of-type {\n",
       "        vertical-align: middle;\n",
       "    }\n",
       "\n",
       "    .dataframe tbody tr th {\n",
       "        vertical-align: top;\n",
       "    }\n",
       "\n",
       "    .dataframe thead th {\n",
       "        text-align: right;\n",
       "    }\n",
       "</style>\n",
       "<table border=\"1\" class=\"dataframe\">\n",
       "  <thead>\n",
       "    <tr style=\"text-align: right;\">\n",
       "      <th></th>\n",
       "      <th>ALink</th>\n",
       "      <th>SName</th>\n",
       "      <th>SLink</th>\n",
       "      <th>Lyric</th>\n",
       "      <th>language</th>\n",
       "    </tr>\n",
       "  </thead>\n",
       "  <tbody>\n",
       "    <tr>\n",
       "      <th>0</th>\n",
       "      <td>/ivete-sangalo/</td>\n",
       "      <td>Arerê</td>\n",
       "      <td>/ivete-sangalo/arere.html</td>\n",
       "      <td>Tudo o que eu quero nessa vida,\\nToda vida, é\\...</td>\n",
       "      <td>pt</td>\n",
       "    </tr>\n",
       "    <tr>\n",
       "      <th>1</th>\n",
       "      <td>/ivete-sangalo/</td>\n",
       "      <td>Se Eu Não Te Amasse Tanto Assim</td>\n",
       "      <td>/ivete-sangalo/se-eu-nao-te-amasse-tanto-assim...</td>\n",
       "      <td>Meu coração\\nSem direção\\nVoando só por voar\\n...</td>\n",
       "      <td>pt</td>\n",
       "    </tr>\n",
       "    <tr>\n",
       "      <th>2</th>\n",
       "      <td>/ivete-sangalo/</td>\n",
       "      <td>Céu da Boca</td>\n",
       "      <td>/ivete-sangalo/chupa-toda.html</td>\n",
       "      <td>É de babaixá!\\nÉ de balacubaca!\\nÉ de babaixá!...</td>\n",
       "      <td>pt</td>\n",
       "    </tr>\n",
       "    <tr>\n",
       "      <th>3</th>\n",
       "      <td>/ivete-sangalo/</td>\n",
       "      <td>Quando A Chuva Passar</td>\n",
       "      <td>/ivete-sangalo/quando-a-chuva-passar.html</td>\n",
       "      <td>Quando a chuva passar\\n\\nPra quê falar\\nSe voc...</td>\n",
       "      <td>pt</td>\n",
       "    </tr>\n",
       "    <tr>\n",
       "      <th>4</th>\n",
       "      <td>/ivete-sangalo/</td>\n",
       "      <td>Sorte Grande</td>\n",
       "      <td>/ivete-sangalo/sorte-grande.html</td>\n",
       "      <td>A minha sorte grande foi você cair do céu\\nMin...</td>\n",
       "      <td>pt</td>\n",
       "    </tr>\n",
       "  </tbody>\n",
       "</table>\n",
       "</div>"
      ],
      "text/plain": [
       "             ALink                            SName  \\\n",
       "0  /ivete-sangalo/                            Arerê   \n",
       "1  /ivete-sangalo/  Se Eu Não Te Amasse Tanto Assim   \n",
       "2  /ivete-sangalo/                      Céu da Boca   \n",
       "3  /ivete-sangalo/            Quando A Chuva Passar   \n",
       "4  /ivete-sangalo/                     Sorte Grande   \n",
       "\n",
       "                                               SLink  \\\n",
       "0                          /ivete-sangalo/arere.html   \n",
       "1  /ivete-sangalo/se-eu-nao-te-amasse-tanto-assim...   \n",
       "2                     /ivete-sangalo/chupa-toda.html   \n",
       "3          /ivete-sangalo/quando-a-chuva-passar.html   \n",
       "4                   /ivete-sangalo/sorte-grande.html   \n",
       "\n",
       "                                               Lyric language  \n",
       "0  Tudo o que eu quero nessa vida,\\nToda vida, é\\...       pt  \n",
       "1  Meu coração\\nSem direção\\nVoando só por voar\\n...       pt  \n",
       "2  É de babaixá!\\nÉ de balacubaca!\\nÉ de babaixá!...       pt  \n",
       "3  Quando a chuva passar\\n\\nPra quê falar\\nSe voc...       pt  \n",
       "4  A minha sorte grande foi você cair do céu\\nMin...       pt  "
      ]
     },
     "execution_count": 5,
     "metadata": {},
     "output_type": "execute_result"
    }
   ],
   "source": [
    "lyrics_df.head()"
   ]
  },
  {
   "cell_type": "markdown",
   "id": "fe951d55",
   "metadata": {
    "papermill": {
     "duration": 0.006202,
     "end_time": "2025-09-09T16:44:54.651552",
     "exception": false,
     "start_time": "2025-09-09T16:44:54.645350",
     "status": "completed"
    },
    "tags": []
   },
   "source": [
    "# Processing of Lyric DataFrame"
   ]
  },
  {
   "cell_type": "markdown",
   "id": "55b64165",
   "metadata": {
    "papermill": {
     "duration": 0.006589,
     "end_time": "2025-09-09T16:44:54.664591",
     "exception": false,
     "start_time": "2025-09-09T16:44:54.658002",
     "status": "completed"
    },
    "tags": []
   },
   "source": [
    "**Perform text cleaning on the lyrics**"
   ]
  },
  {
   "cell_type": "code",
   "execution_count": 6,
   "id": "628e6c04",
   "metadata": {
    "execution": {
     "iopub.execute_input": "2025-09-09T16:44:54.677913Z",
     "iopub.status.busy": "2025-09-09T16:44:54.677716Z",
     "iopub.status.idle": "2025-09-09T16:44:54.681863Z",
     "shell.execute_reply": "2025-09-09T16:44:54.681364Z"
    },
    "papermill": {
     "duration": 0.012065,
     "end_time": "2025-09-09T16:44:54.682801",
     "exception": false,
     "start_time": "2025-09-09T16:44:54.670736",
     "status": "completed"
    },
    "tags": []
   },
   "outputs": [],
   "source": [
    "def clean_text(words): \n",
    "    # skip NaN or non-string\n",
    "    if not isinstance(words, str):  \n",
    "        return \"\"\n",
    "    # lowercase the text\n",
    "    words = words.lower()\n",
    "    # fix encodings and punctuation\n",
    "    words = unidecode(words)\n",
    "    # fix html tags\n",
    "    words = re.sub('<[^<]+?>','', words)\n",
    "    # remove numbers\n",
    "    words = ''.join(c for c in words if not c.isdigit())\n",
    "    # remove URL's\n",
    "    words = re.sub('((www\\.[^\\s]+)|(https?://[^\\s]+)|(http?://[^\\s]+))', '', words)\n",
    "    # remove punctuations\n",
    "    words = ''.join(c for c in words if c not in punctuation)\n",
    "    \n",
    "    return word_tokenize(words)"
   ]
  },
  {
   "cell_type": "code",
   "execution_count": 7,
   "id": "fb37bd08",
   "metadata": {
    "execution": {
     "iopub.execute_input": "2025-09-09T16:44:54.696788Z",
     "iopub.status.busy": "2025-09-09T16:44:54.696185Z",
     "iopub.status.idle": "2025-09-09T16:44:54.738759Z",
     "shell.execute_reply": "2025-09-09T16:44:54.738024Z"
    },
    "papermill": {
     "duration": 0.050697,
     "end_time": "2025-09-09T16:44:54.739896",
     "exception": false,
     "start_time": "2025-09-09T16:44:54.689199",
     "status": "completed"
    },
    "tags": []
   },
   "outputs": [
    {
     "data": {
      "text/plain": [
       "0         Tudo o que eu quero nessa vida,\n",
       "Toda vida, é\n",
       "É...\n",
       "1         Meu coração\n",
       "Sem direção\n",
       "Voando só por voar\n",
       "Sem...\n",
       "2         É de babaixá!\n",
       "É de balacubaca!\n",
       "É de babaixá!\n",
       "É...\n",
       "3         Quando a chuva passar\n",
       "\n",
       "Pra quê falar\n",
       "Se você n...\n",
       "4         A minha sorte grande foi você cair do céu\n",
       "Minh...\n",
       "                                ...                        \n",
       "379926    Chorus\n",
       "Here we stand waiting on the plain\n",
       "Dark...\n",
       "379927    I nearly disappeared into the mouth of a croco...\n",
       "379928    Amambuka, amambuka azothengisa izwe lakithi, i...\n",
       "379929    Sweat in the heat for days on end\n",
       "waiting for ...\n",
       "379930    Here we stand on the edge of the day\n",
       "Faces mel...\n",
       "Name: Lyric, Length: 379931, dtype: string"
      ]
     },
     "execution_count": 7,
     "metadata": {},
     "output_type": "execute_result"
    }
   ],
   "source": [
    "lyrics_df['Lyric'].convert_dtypes()"
   ]
  },
  {
   "cell_type": "code",
   "execution_count": 8,
   "id": "2fdcccbb",
   "metadata": {
    "execution": {
     "iopub.execute_input": "2025-09-09T16:44:54.754266Z",
     "iopub.status.busy": "2025-09-09T16:44:54.753549Z",
     "iopub.status.idle": "2025-09-09T16:49:48.705277Z",
     "shell.execute_reply": "2025-09-09T16:49:48.704351Z"
    },
    "papermill": {
     "duration": 293.968318,
     "end_time": "2025-09-09T16:49:48.714971",
     "exception": false,
     "start_time": "2025-09-09T16:44:54.746653",
     "status": "completed"
    },
    "tags": []
   },
   "outputs": [
    {
     "name": "stdout",
     "output_type": "stream",
     "text": [
      "Lyric Cleaning Time: 0:04:53.946252\n"
     ]
    }
   ],
   "source": [
    "start_time = datetime.now()\n",
    "lyrics_df['Lyric_Clean'] = lyrics_df.apply(lambda row : clean_text(row['Lyric']), axis = 1)\n",
    "end_time = datetime.now()\n",
    "print('Lyric Cleaning Time: {}'.format(end_time - start_time))"
   ]
  },
  {
   "cell_type": "markdown",
   "id": "a00331e1",
   "metadata": {
    "papermill": {
     "duration": 0.007751,
     "end_time": "2025-09-09T16:49:48.730930",
     "exception": false,
     "start_time": "2025-09-09T16:49:48.723179",
     "status": "completed"
    },
    "tags": []
   },
   "source": [
    "**Remove stopwords (a, the, is, etc.)**"
   ]
  },
  {
   "cell_type": "markdown",
   "id": "b86f9a5f",
   "metadata": {
    "papermill": {
     "duration": 0.007979,
     "end_time": "2025-09-09T16:49:48.824239",
     "exception": false,
     "start_time": "2025-09-09T16:49:48.816260",
     "status": "completed"
    },
    "tags": []
   },
   "source": [
    "Identify top five languages in the dataset, for simplicity. "
   ]
  },
  {
   "cell_type": "code",
   "execution_count": 9,
   "id": "aa3376ff",
   "metadata": {
    "execution": {
     "iopub.execute_input": "2025-09-09T16:49:48.842360Z",
     "iopub.status.busy": "2025-09-09T16:49:48.841519Z",
     "iopub.status.idle": "2025-09-09T16:49:48.888623Z",
     "shell.execute_reply": "2025-09-09T16:49:48.887812Z"
    },
    "papermill": {
     "duration": 0.057683,
     "end_time": "2025-09-09T16:49:48.890084",
     "exception": false,
     "start_time": "2025-09-09T16:49:48.832401",
     "status": "completed"
    },
    "tags": []
   },
   "outputs": [
    {
     "data": {
      "text/html": [
       "<div>\n",
       "<style scoped>\n",
       "    .dataframe tbody tr th:only-of-type {\n",
       "        vertical-align: middle;\n",
       "    }\n",
       "\n",
       "    .dataframe tbody tr th {\n",
       "        vertical-align: top;\n",
       "    }\n",
       "\n",
       "    .dataframe thead th {\n",
       "        text-align: right;\n",
       "    }\n",
       "</style>\n",
       "<table border=\"1\" class=\"dataframe\">\n",
       "  <thead>\n",
       "    <tr style=\"text-align: right;\">\n",
       "      <th></th>\n",
       "      <th>language</th>\n",
       "      <th>Count</th>\n",
       "    </tr>\n",
       "  </thead>\n",
       "  <tbody>\n",
       "    <tr>\n",
       "      <th>0</th>\n",
       "      <td>en</td>\n",
       "      <td>191814</td>\n",
       "    </tr>\n",
       "    <tr>\n",
       "      <th>1</th>\n",
       "      <td>pt</td>\n",
       "      <td>157393</td>\n",
       "    </tr>\n",
       "    <tr>\n",
       "      <th>2</th>\n",
       "      <td>es</td>\n",
       "      <td>9917</td>\n",
       "    </tr>\n",
       "    <tr>\n",
       "      <th>3</th>\n",
       "      <td>rw</td>\n",
       "      <td>1679</td>\n",
       "    </tr>\n",
       "    <tr>\n",
       "      <th>4</th>\n",
       "      <td>it</td>\n",
       "      <td>1432</td>\n",
       "    </tr>\n",
       "  </tbody>\n",
       "</table>\n",
       "</div>"
      ],
      "text/plain": [
       "  language   Count\n",
       "0       en  191814\n",
       "1       pt  157393\n",
       "2       es    9917\n",
       "3       rw    1679\n",
       "4       it    1432"
      ]
     },
     "execution_count": 9,
     "metadata": {},
     "output_type": "execute_result"
    }
   ],
   "source": [
    "lyrics_df.groupby('language').size().sort_values(ascending=False).nlargest(5).reset_index(name='Count')"
   ]
  },
  {
   "cell_type": "markdown",
   "id": "d161aeb3",
   "metadata": {
    "papermill": {
     "duration": 0.007982,
     "end_time": "2025-09-09T16:49:48.906871",
     "exception": false,
     "start_time": "2025-09-09T16:49:48.898889",
     "status": "completed"
    },
    "tags": []
   },
   "source": [
    "Let's make sure that the NLTK package has stopwords for the top five languages in our dataset. "
   ]
  },
  {
   "cell_type": "code",
   "execution_count": 10,
   "id": "7c63d3a2",
   "metadata": {
    "execution": {
     "iopub.execute_input": "2025-09-09T16:49:48.924520Z",
     "iopub.status.busy": "2025-09-09T16:49:48.924185Z",
     "iopub.status.idle": "2025-09-09T16:49:48.930995Z",
     "shell.execute_reply": "2025-09-09T16:49:48.930101Z"
    },
    "papermill": {
     "duration": 0.017344,
     "end_time": "2025-09-09T16:49:48.932393",
     "exception": false,
     "start_time": "2025-09-09T16:49:48.915049",
     "status": "completed"
    },
    "tags": []
   },
   "outputs": [
    {
     "name": "stdout",
     "output_type": "stream",
     "text": [
      "['albanian', 'arabic', 'azerbaijani', 'basque', 'belarusian', 'bengali', 'catalan', 'chinese', 'danish', 'dutch', 'english', 'finnish', 'french', 'german', 'greek', 'hebrew', 'hinglish', 'hungarian', 'indonesian', 'italian', 'kazakh', 'nepali', 'norwegian', 'portuguese', 'romanian', 'russian', 'slovene', 'spanish', 'swedish', 'tajik', 'tamil', 'turkish']\n"
     ]
    }
   ],
   "source": [
    "print(stopwords.fileids())"
   ]
  },
  {
   "cell_type": "markdown",
   "id": "f96f200a",
   "metadata": {
    "papermill": {
     "duration": 0.007887,
     "end_time": "2025-09-09T16:49:48.949019",
     "exception": false,
     "start_time": "2025-09-09T16:49:48.941132",
     "status": "completed"
    },
    "tags": []
   },
   "source": [
    "Looks like NLTK has stopwords for English (en), Portuguese (pt), Spanish (es), and Italian (it). Let's make a list of those stopwords. "
   ]
  },
  {
   "cell_type": "code",
   "execution_count": 11,
   "id": "0ec10151",
   "metadata": {
    "execution": {
     "iopub.execute_input": "2025-09-09T16:49:48.967022Z",
     "iopub.status.busy": "2025-09-09T16:49:48.966481Z",
     "iopub.status.idle": "2025-09-09T16:49:48.975559Z",
     "shell.execute_reply": "2025-09-09T16:49:48.974636Z"
    },
    "papermill": {
     "duration": 0.019825,
     "end_time": "2025-09-09T16:49:48.977127",
     "exception": false,
     "start_time": "2025-09-09T16:49:48.957302",
     "status": "completed"
    },
    "tags": []
   },
   "outputs": [],
   "source": [
    "top_lang_stopwords = [stopwords.words('english'), stopwords.words('portuguese'), stopwords.words('spanish'), stopwords.words('italian')]"
   ]
  },
  {
   "cell_type": "code",
   "execution_count": 12,
   "id": "77d79d92",
   "metadata": {
    "execution": {
     "iopub.execute_input": "2025-09-09T16:49:48.996028Z",
     "iopub.status.busy": "2025-09-09T16:49:48.995294Z",
     "iopub.status.idle": "2025-09-09T16:49:49.000245Z",
     "shell.execute_reply": "2025-09-09T16:49:48.999334Z"
    },
    "papermill": {
     "duration": 0.015802,
     "end_time": "2025-09-09T16:49:49.001687",
     "exception": false,
     "start_time": "2025-09-09T16:49:48.985885",
     "status": "completed"
    },
    "tags": []
   },
   "outputs": [],
   "source": [
    "def remove_stop_words(words, stopwords): \n",
    "    new_words = list()\n",
    "\n",
    "    for word in words: \n",
    "        if word not in stopwords: \n",
    "            new_words.append(word)\n",
    "\n",
    "    return_words = ' '.join(new_words)\n",
    "    return return_words"
   ]
  },
  {
   "cell_type": "code",
   "execution_count": 13,
   "id": "e5fdbc3c",
   "metadata": {
    "execution": {
     "iopub.execute_input": "2025-09-09T16:49:49.019844Z",
     "iopub.status.busy": "2025-09-09T16:49:49.019543Z",
     "iopub.status.idle": "2025-09-09T16:50:03.194246Z",
     "shell.execute_reply": "2025-09-09T16:50:03.193291Z"
    },
    "papermill": {
     "duration": 14.185253,
     "end_time": "2025-09-09T16:50:03.195429",
     "exception": false,
     "start_time": "2025-09-09T16:49:49.010176",
     "status": "completed"
    },
    "tags": []
   },
   "outputs": [
    {
     "name": "stdout",
     "output_type": "stream",
     "text": [
      "Stopword removal time: 0:00:14.169036\n"
     ]
    }
   ],
   "source": [
    "start_time = datetime.now()\n",
    "\n",
    "lyrics_df['Lyric_Clean'] = lyrics_df.apply(lambda row : remove_stop_words(row['Lyric_Clean'], top_lang_stopwords), axis = 1)\n",
    "\n",
    "end_time = datetime.now()\n",
    "print('Stopword removal time: {}'.format(end_time - start_time))"
   ]
  },
  {
   "cell_type": "markdown",
   "id": "4166eb23",
   "metadata": {
    "papermill": {
     "duration": 0.007709,
     "end_time": "2025-09-09T16:50:03.210741",
     "exception": false,
     "start_time": "2025-09-09T16:50:03.203032",
     "status": "completed"
    },
    "tags": []
   },
   "source": [
    "**Perform Lemmatization on the cleaned lyrics**"
   ]
  },
  {
   "cell_type": "markdown",
   "id": "71eae14b",
   "metadata": {
    "papermill": {
     "duration": 0.008147,
     "end_time": "2025-09-09T16:50:03.227200",
     "exception": false,
     "start_time": "2025-09-09T16:50:03.219053",
     "status": "completed"
    },
    "tags": []
   },
   "source": [
    "Lemmatization reduces each word to its root form (ex: happily --> happy), thereby reducing dimensionality of the data. We'll use [NLTK's lemmatization library](https://www.nltk.org/api/nltk.stem.wordnet.html) to do this. "
   ]
  },
  {
   "cell_type": "code",
   "execution_count": 14,
   "id": "fe527ea4",
   "metadata": {
    "execution": {
     "iopub.execute_input": "2025-09-09T16:50:03.244805Z",
     "iopub.status.busy": "2025-09-09T16:50:03.244008Z",
     "iopub.status.idle": "2025-09-09T16:50:09.293358Z",
     "shell.execute_reply": "2025-09-09T16:50:09.292308Z"
    },
    "papermill": {
     "duration": 6.059472,
     "end_time": "2025-09-09T16:50:09.294702",
     "exception": false,
     "start_time": "2025-09-09T16:50:03.235230",
     "status": "completed"
    },
    "tags": []
   },
   "outputs": [
    {
     "name": "stdout",
     "output_type": "stream",
     "text": [
      "Lyric lemmatization time: 0:00:06.043902\n"
     ]
    }
   ],
   "source": [
    "start_time = datetime.now()\n",
    "\n",
    "lyrics_df['Lyric_Clean'] = lyrics_df.apply(lambda row : wnl().lemmatize(row['Lyric_Clean']), axis = 1)\n",
    "\n",
    "end_time = datetime.now()\n",
    "print('Lyric lemmatization time: {}'.format(end_time - start_time))"
   ]
  },
  {
   "cell_type": "code",
   "execution_count": 15,
   "id": "6863dc75",
   "metadata": {
    "execution": {
     "iopub.execute_input": "2025-09-09T16:50:09.310172Z",
     "iopub.status.busy": "2025-09-09T16:50:09.309919Z",
     "iopub.status.idle": "2025-09-09T16:50:09.318699Z",
     "shell.execute_reply": "2025-09-09T16:50:09.318121Z"
    },
    "papermill": {
     "duration": 0.017549,
     "end_time": "2025-09-09T16:50:09.319746",
     "exception": false,
     "start_time": "2025-09-09T16:50:09.302197",
     "status": "completed"
    },
    "tags": []
   },
   "outputs": [
    {
     "data": {
      "text/html": [
       "<div>\n",
       "<style scoped>\n",
       "    .dataframe tbody tr th:only-of-type {\n",
       "        vertical-align: middle;\n",
       "    }\n",
       "\n",
       "    .dataframe tbody tr th {\n",
       "        vertical-align: top;\n",
       "    }\n",
       "\n",
       "    .dataframe thead th {\n",
       "        text-align: right;\n",
       "    }\n",
       "</style>\n",
       "<table border=\"1\" class=\"dataframe\">\n",
       "  <thead>\n",
       "    <tr style=\"text-align: right;\">\n",
       "      <th></th>\n",
       "      <th>ALink</th>\n",
       "      <th>SName</th>\n",
       "      <th>SLink</th>\n",
       "      <th>Lyric</th>\n",
       "      <th>language</th>\n",
       "      <th>Lyric_Clean</th>\n",
       "    </tr>\n",
       "  </thead>\n",
       "  <tbody>\n",
       "    <tr>\n",
       "      <th>0</th>\n",
       "      <td>/ivete-sangalo/</td>\n",
       "      <td>Arerê</td>\n",
       "      <td>/ivete-sangalo/arere.html</td>\n",
       "      <td>Tudo o que eu quero nessa vida,\\nToda vida, é\\...</td>\n",
       "      <td>pt</td>\n",
       "      <td>tudo o que eu quero nessa vida toda vida e e a...</td>\n",
       "    </tr>\n",
       "    <tr>\n",
       "      <th>1</th>\n",
       "      <td>/ivete-sangalo/</td>\n",
       "      <td>Se Eu Não Te Amasse Tanto Assim</td>\n",
       "      <td>/ivete-sangalo/se-eu-nao-te-amasse-tanto-assim...</td>\n",
       "      <td>Meu coração\\nSem direção\\nVoando só por voar\\n...</td>\n",
       "      <td>pt</td>\n",
       "      <td>meu coracao sem direcao voando so por voar sem...</td>\n",
       "    </tr>\n",
       "    <tr>\n",
       "      <th>2</th>\n",
       "      <td>/ivete-sangalo/</td>\n",
       "      <td>Céu da Boca</td>\n",
       "      <td>/ivete-sangalo/chupa-toda.html</td>\n",
       "      <td>É de babaixá!\\nÉ de balacubaca!\\nÉ de babaixá!...</td>\n",
       "      <td>pt</td>\n",
       "      <td>e de babaixa e de balacubaca e de babaixa e de...</td>\n",
       "    </tr>\n",
       "    <tr>\n",
       "      <th>3</th>\n",
       "      <td>/ivete-sangalo/</td>\n",
       "      <td>Quando A Chuva Passar</td>\n",
       "      <td>/ivete-sangalo/quando-a-chuva-passar.html</td>\n",
       "      <td>Quando a chuva passar\\n\\nPra quê falar\\nSe voc...</td>\n",
       "      <td>pt</td>\n",
       "      <td>quando a chuva passar pra que falar se voce na...</td>\n",
       "    </tr>\n",
       "    <tr>\n",
       "      <th>4</th>\n",
       "      <td>/ivete-sangalo/</td>\n",
       "      <td>Sorte Grande</td>\n",
       "      <td>/ivete-sangalo/sorte-grande.html</td>\n",
       "      <td>A minha sorte grande foi você cair do céu\\nMin...</td>\n",
       "      <td>pt</td>\n",
       "      <td>a minha sorte grande foi voce cair do ceu minh...</td>\n",
       "    </tr>\n",
       "  </tbody>\n",
       "</table>\n",
       "</div>"
      ],
      "text/plain": [
       "             ALink                            SName  \\\n",
       "0  /ivete-sangalo/                            Arerê   \n",
       "1  /ivete-sangalo/  Se Eu Não Te Amasse Tanto Assim   \n",
       "2  /ivete-sangalo/                      Céu da Boca   \n",
       "3  /ivete-sangalo/            Quando A Chuva Passar   \n",
       "4  /ivete-sangalo/                     Sorte Grande   \n",
       "\n",
       "                                               SLink  \\\n",
       "0                          /ivete-sangalo/arere.html   \n",
       "1  /ivete-sangalo/se-eu-nao-te-amasse-tanto-assim...   \n",
       "2                     /ivete-sangalo/chupa-toda.html   \n",
       "3          /ivete-sangalo/quando-a-chuva-passar.html   \n",
       "4                   /ivete-sangalo/sorte-grande.html   \n",
       "\n",
       "                                               Lyric language  \\\n",
       "0  Tudo o que eu quero nessa vida,\\nToda vida, é\\...       pt   \n",
       "1  Meu coração\\nSem direção\\nVoando só por voar\\n...       pt   \n",
       "2  É de babaixá!\\nÉ de balacubaca!\\nÉ de babaixá!...       pt   \n",
       "3  Quando a chuva passar\\n\\nPra quê falar\\nSe voc...       pt   \n",
       "4  A minha sorte grande foi você cair do céu\\nMin...       pt   \n",
       "\n",
       "                                         Lyric_Clean  \n",
       "0  tudo o que eu quero nessa vida toda vida e e a...  \n",
       "1  meu coracao sem direcao voando so por voar sem...  \n",
       "2  e de babaixa e de balacubaca e de babaixa e de...  \n",
       "3  quando a chuva passar pra que falar se voce na...  \n",
       "4  a minha sorte grande foi voce cair do ceu minh...  "
      ]
     },
     "execution_count": 15,
     "metadata": {},
     "output_type": "execute_result"
    }
   ],
   "source": [
    "lyrics_df.head()"
   ]
  },
  {
   "cell_type": "markdown",
   "id": "1b686283",
   "metadata": {
    "papermill": {
     "duration": 0.006844,
     "end_time": "2025-09-09T16:50:09.333802",
     "exception": false,
     "start_time": "2025-09-09T16:50:09.326958",
     "status": "completed"
    },
    "tags": []
   },
   "source": [
    "# Processing of the Artist DataFrame"
   ]
  },
  {
   "cell_type": "markdown",
   "id": "f42214cc",
   "metadata": {
    "papermill": {
     "duration": 0.006758,
     "end_time": "2025-09-09T16:50:09.347484",
     "exception": false,
     "start_time": "2025-09-09T16:50:09.340726",
     "status": "completed"
    },
    "tags": []
   },
   "source": [
    "Clean up the artist_df DataFrame and create a list of all the genres (delimited by ;)"
   ]
  },
  {
   "cell_type": "code",
   "execution_count": 16,
   "id": "2a945956",
   "metadata": {
    "execution": {
     "iopub.execute_input": "2025-09-09T16:50:09.363211Z",
     "iopub.status.busy": "2025-09-09T16:50:09.362441Z",
     "iopub.status.idle": "2025-09-09T16:50:09.365781Z",
     "shell.execute_reply": "2025-09-09T16:50:09.365237Z"
    },
    "papermill": {
     "duration": 0.011948,
     "end_time": "2025-09-09T16:50:09.366756",
     "exception": false,
     "start_time": "2025-09-09T16:50:09.354808",
     "status": "completed"
    },
    "tags": []
   },
   "outputs": [],
   "source": [
    "# def genre_split(column_values):\n",
    "#     # skip NaN or non-string\n",
    "#     if not isinstance(column_values, str):  \n",
    "#         return \"\"\n",
    "#     column_values = column_values.split(\";\")\n",
    "#     column_values = [value.strip().lower() for value in column_values]\n",
    "#     return column_values"
   ]
  },
  {
   "cell_type": "code",
   "execution_count": 17,
   "id": "d8ccc966",
   "metadata": {
    "execution": {
     "iopub.execute_input": "2025-09-09T16:50:09.383622Z",
     "iopub.status.busy": "2025-09-09T16:50:09.383017Z",
     "iopub.status.idle": "2025-09-09T16:50:09.386325Z",
     "shell.execute_reply": "2025-09-09T16:50:09.385760Z"
    },
    "papermill": {
     "duration": 0.013491,
     "end_time": "2025-09-09T16:50:09.387437",
     "exception": false,
     "start_time": "2025-09-09T16:50:09.373946",
     "status": "completed"
    },
    "tags": []
   },
   "outputs": [],
   "source": [
    "# artist_df['Genres'] = artist_df['Genres'].apply(genre_split)"
   ]
  },
  {
   "cell_type": "markdown",
   "id": "3a976506",
   "metadata": {
    "papermill": {
     "duration": 0.006697,
     "end_time": "2025-09-09T16:50:09.401261",
     "exception": false,
     "start_time": "2025-09-09T16:50:09.394564",
     "status": "completed"
    },
    "tags": []
   },
   "source": [
    "Let's explore the genres in the artist_df (top 10)"
   ]
  },
  {
   "cell_type": "code",
   "execution_count": 18,
   "id": "a757e281",
   "metadata": {
    "execution": {
     "iopub.execute_input": "2025-09-09T16:50:09.416844Z",
     "iopub.status.busy": "2025-09-09T16:50:09.416172Z",
     "iopub.status.idle": "2025-09-09T16:50:09.430025Z",
     "shell.execute_reply": "2025-09-09T16:50:09.429311Z"
    },
    "papermill": {
     "duration": 0.022759,
     "end_time": "2025-09-09T16:50:09.431124",
     "exception": false,
     "start_time": "2025-09-09T16:50:09.408365",
     "status": "completed"
    },
    "tags": []
   },
   "outputs": [
    {
     "data": {
      "text/html": [
       "<div>\n",
       "<style scoped>\n",
       "    .dataframe tbody tr th:only-of-type {\n",
       "        vertical-align: middle;\n",
       "    }\n",
       "\n",
       "    .dataframe tbody tr th {\n",
       "        vertical-align: top;\n",
       "    }\n",
       "\n",
       "    .dataframe thead th {\n",
       "        text-align: right;\n",
       "    }\n",
       "</style>\n",
       "<table border=\"1\" class=\"dataframe\">\n",
       "  <thead>\n",
       "    <tr style=\"text-align: right;\">\n",
       "      <th></th>\n",
       "      <th>Genres</th>\n",
       "      <th>count</th>\n",
       "    </tr>\n",
       "  </thead>\n",
       "  <tbody>\n",
       "    <tr>\n",
       "      <th>315</th>\n",
       "      <td>Gospel/Religioso</td>\n",
       "      <td>244</td>\n",
       "    </tr>\n",
       "    <tr>\n",
       "      <th>1492</th>\n",
       "      <td>Sertanejo</td>\n",
       "      <td>97</td>\n",
       "    </tr>\n",
       "    <tr>\n",
       "      <th>255</th>\n",
       "      <td>Funk Carioca</td>\n",
       "      <td>61</td>\n",
       "    </tr>\n",
       "    <tr>\n",
       "      <th>599</th>\n",
       "      <td>Indie</td>\n",
       "      <td>53</td>\n",
       "    </tr>\n",
       "    <tr>\n",
       "      <th>212</th>\n",
       "      <td>Forró</td>\n",
       "      <td>49</td>\n",
       "    </tr>\n",
       "    <tr>\n",
       "      <th>873</th>\n",
       "      <td>Pop</td>\n",
       "      <td>49</td>\n",
       "    </tr>\n",
       "    <tr>\n",
       "      <th>1230</th>\n",
       "      <td>Rock</td>\n",
       "      <td>49</td>\n",
       "    </tr>\n",
       "    <tr>\n",
       "      <th>1127</th>\n",
       "      <td>Rap</td>\n",
       "      <td>46</td>\n",
       "    </tr>\n",
       "    <tr>\n",
       "      <th>1139</th>\n",
       "      <td>Rap; Hip Hop</td>\n",
       "      <td>43</td>\n",
       "    </tr>\n",
       "    <tr>\n",
       "      <th>506</th>\n",
       "      <td>Heavy Metal</td>\n",
       "      <td>42</td>\n",
       "    </tr>\n",
       "    <tr>\n",
       "      <th>766</th>\n",
       "      <td>MPB</td>\n",
       "      <td>37</td>\n",
       "    </tr>\n",
       "    <tr>\n",
       "      <th>1453</th>\n",
       "      <td>Samba</td>\n",
       "      <td>33</td>\n",
       "    </tr>\n",
       "    <tr>\n",
       "      <th>1640</th>\n",
       "      <td>Trilha Sonora</td>\n",
       "      <td>31</td>\n",
       "    </tr>\n",
       "    <tr>\n",
       "      <th>92</th>\n",
       "      <td>Country</td>\n",
       "      <td>30</td>\n",
       "    </tr>\n",
       "    <tr>\n",
       "      <th>1171</th>\n",
       "      <td>Reggae</td>\n",
       "      <td>30</td>\n",
       "    </tr>\n",
       "  </tbody>\n",
       "</table>\n",
       "</div>"
      ],
      "text/plain": [
       "                Genres  count\n",
       "315   Gospel/Religioso    244\n",
       "1492         Sertanejo     97\n",
       "255       Funk Carioca     61\n",
       "599              Indie     53\n",
       "212              Forró     49\n",
       "873                Pop     49\n",
       "1230              Rock     49\n",
       "1127               Rap     46\n",
       "1139      Rap; Hip Hop     43\n",
       "506        Heavy Metal     42\n",
       "766                MPB     37\n",
       "1453             Samba     33\n",
       "1640     Trilha Sonora     31\n",
       "92             Country     30\n",
       "1171            Reggae     30"
      ]
     },
     "execution_count": 18,
     "metadata": {},
     "output_type": "execute_result"
    }
   ],
   "source": [
    "pd.set_option('display.max_rows', None)\n",
    "artist_df.groupby('Genres').size().reset_index(name='count').nlargest(15, columns='count')"
   ]
  },
  {
   "cell_type": "code",
   "execution_count": 19,
   "id": "e9f15574",
   "metadata": {
    "execution": {
     "iopub.execute_input": "2025-09-09T16:50:09.446748Z",
     "iopub.status.busy": "2025-09-09T16:50:09.446519Z",
     "iopub.status.idle": "2025-09-09T16:50:09.459641Z",
     "shell.execute_reply": "2025-09-09T16:50:09.459013Z"
    },
    "papermill": {
     "duration": 0.022159,
     "end_time": "2025-09-09T16:50:09.460824",
     "exception": false,
     "start_time": "2025-09-09T16:50:09.438665",
     "status": "completed"
    },
    "tags": []
   },
   "outputs": [
    {
     "data": {
      "text/plain": [
       "['Gospel/Religioso',\n",
       " 'Sertanejo',\n",
       " 'Rap',\n",
       " 'Funk Carioca',\n",
       " 'Indie',\n",
       " 'Forró',\n",
       " 'Pop',\n",
       " 'Rock',\n",
       " 'Hip Hop',\n",
       " 'Heavy Metal',\n",
       " 'MPB',\n",
       " 'Samba',\n",
       " 'Trilha Sonora',\n",
       " 'Country',\n",
       " 'Reggae']"
      ]
     },
     "execution_count": 19,
     "metadata": {},
     "output_type": "execute_result"
    }
   ],
   "source": [
    "artist_df = artist_df.replace({'Genres': ['Rap; Hip Hop']}, {'Genres': ['Rap']})\n",
    "artist_df = artist_df.replace({'Genres': ['Hip Hop; Rap']}, {'Genres': ['Hip Hop']})\n",
    "genre_list = artist_df.groupby('Genres').size().reset_index(name='count').nlargest(15, columns='count')['Genres'].tolist()\n",
    "genre_list"
   ]
  },
  {
   "cell_type": "markdown",
   "id": "90c1a409",
   "metadata": {
    "papermill": {
     "duration": 0.007228,
     "end_time": "2025-09-09T16:50:09.475560",
     "exception": false,
     "start_time": "2025-09-09T16:50:09.468332",
     "status": "completed"
    },
    "tags": []
   },
   "source": [
    "We will use the above 10 most popular genres in the dataset to group the genres in the artist_df. Anything that does not contain these genres will be put into the 'other' bucket. The first listed genre in the list will be prioritized (ex: pop; rock; gospel/religioso --> pop). "
   ]
  },
  {
   "cell_type": "code",
   "execution_count": 20,
   "id": "3e1bfa5c",
   "metadata": {
    "execution": {
     "iopub.execute_input": "2025-09-09T16:50:09.490786Z",
     "iopub.status.busy": "2025-09-09T16:50:09.490530Z",
     "iopub.status.idle": "2025-09-09T16:50:09.505871Z",
     "shell.execute_reply": "2025-09-09T16:50:09.505287Z"
    },
    "papermill": {
     "duration": 0.024313,
     "end_time": "2025-09-09T16:50:09.506980",
     "exception": false,
     "start_time": "2025-09-09T16:50:09.482667",
     "status": "completed"
    },
    "tags": []
   },
   "outputs": [
    {
     "data": {
      "text/html": [
       "<div>\n",
       "<style scoped>\n",
       "    .dataframe tbody tr th:only-of-type {\n",
       "        vertical-align: middle;\n",
       "    }\n",
       "\n",
       "    .dataframe tbody tr th {\n",
       "        vertical-align: top;\n",
       "    }\n",
       "\n",
       "    .dataframe thead th {\n",
       "        text-align: right;\n",
       "    }\n",
       "</style>\n",
       "<table border=\"1\" class=\"dataframe\">\n",
       "  <thead>\n",
       "    <tr style=\"text-align: right;\">\n",
       "      <th></th>\n",
       "      <th>Artist</th>\n",
       "      <th>Genres</th>\n",
       "      <th>Songs</th>\n",
       "      <th>Popularity</th>\n",
       "      <th>Link</th>\n",
       "      <th>Genre_Group</th>\n",
       "    </tr>\n",
       "  </thead>\n",
       "  <tbody>\n",
       "    <tr>\n",
       "      <th>0</th>\n",
       "      <td>Ivete Sangalo</td>\n",
       "      <td>Pop; Axé; Romântico</td>\n",
       "      <td>313.0</td>\n",
       "      <td>4.4</td>\n",
       "      <td>/ivete-sangalo/</td>\n",
       "      <td>Pop</td>\n",
       "    </tr>\n",
       "    <tr>\n",
       "      <th>1</th>\n",
       "      <td>Chiclete com Banana</td>\n",
       "      <td>Axé</td>\n",
       "      <td>268.0</td>\n",
       "      <td>3.8</td>\n",
       "      <td>/chiclete-com-banana/</td>\n",
       "      <td>Axé</td>\n",
       "    </tr>\n",
       "    <tr>\n",
       "      <th>2</th>\n",
       "      <td>Banda Eva</td>\n",
       "      <td>Axé; Romântico; Reggae</td>\n",
       "      <td>215.0</td>\n",
       "      <td>2.3</td>\n",
       "      <td>/banda-eva/</td>\n",
       "      <td>Axé</td>\n",
       "    </tr>\n",
       "    <tr>\n",
       "      <th>3</th>\n",
       "      <td>É O Tchan</td>\n",
       "      <td>Axé</td>\n",
       "      <td>129.0</td>\n",
       "      <td>1.6</td>\n",
       "      <td>/e-o-tchan/</td>\n",
       "      <td>Axé</td>\n",
       "    </tr>\n",
       "    <tr>\n",
       "      <th>4</th>\n",
       "      <td>Claudia Leitte</td>\n",
       "      <td>Pop; Axé; Romântico</td>\n",
       "      <td>167.0</td>\n",
       "      <td>1.5</td>\n",
       "      <td>/claudia-leitte/</td>\n",
       "      <td>Pop</td>\n",
       "    </tr>\n",
       "    <tr>\n",
       "      <th>5</th>\n",
       "      <td>Harmonia do Samba</td>\n",
       "      <td>Axé; Samba; Pagode</td>\n",
       "      <td>237.0</td>\n",
       "      <td>0.9</td>\n",
       "      <td>/harmonia-do-samba/</td>\n",
       "      <td>Axé</td>\n",
       "    </tr>\n",
       "    <tr>\n",
       "      <th>6</th>\n",
       "      <td>Ara Ketu</td>\n",
       "      <td>Axé; Pop</td>\n",
       "      <td>139.0</td>\n",
       "      <td>1.5</td>\n",
       "      <td>/ara-ketu/</td>\n",
       "      <td>Axé</td>\n",
       "    </tr>\n",
       "    <tr>\n",
       "      <th>7</th>\n",
       "      <td>Daniela Mercury</td>\n",
       "      <td>MPB; Axé</td>\n",
       "      <td>230.0</td>\n",
       "      <td>1.4</td>\n",
       "      <td>/daniela-mercury/</td>\n",
       "      <td>MPB</td>\n",
       "    </tr>\n",
       "    <tr>\n",
       "      <th>8</th>\n",
       "      <td>Olodum</td>\n",
       "      <td>Axé</td>\n",
       "      <td>74.0</td>\n",
       "      <td>1.3</td>\n",
       "      <td>/olodum/</td>\n",
       "      <td>Axé</td>\n",
       "    </tr>\n",
       "    <tr>\n",
       "      <th>9</th>\n",
       "      <td>Netinho</td>\n",
       "      <td>Axé</td>\n",
       "      <td>204.0</td>\n",
       "      <td>2.0</td>\n",
       "      <td>/netinho/</td>\n",
       "      <td>Axé</td>\n",
       "    </tr>\n",
       "    <tr>\n",
       "      <th>10</th>\n",
       "      <td>Asa de Águia</td>\n",
       "      <td>Axé; Forró; Romântico</td>\n",
       "      <td>267.0</td>\n",
       "      <td>1.0</td>\n",
       "      <td>/asa-de-aguia/</td>\n",
       "      <td>Axé</td>\n",
       "    </tr>\n",
       "    <tr>\n",
       "      <th>11</th>\n",
       "      <td>Cheiro de Amor</td>\n",
       "      <td>Axé; Romântico; Chillout</td>\n",
       "      <td>185.0</td>\n",
       "      <td>1.0</td>\n",
       "      <td>/cheiro-de-amor/</td>\n",
       "      <td>Axé</td>\n",
       "    </tr>\n",
       "    <tr>\n",
       "      <th>12</th>\n",
       "      <td>Timbalada</td>\n",
       "      <td>Axé</td>\n",
       "      <td>139.0</td>\n",
       "      <td>1.0</td>\n",
       "      <td>/timbalada/</td>\n",
       "      <td>Axé</td>\n",
       "    </tr>\n",
       "    <tr>\n",
       "      <th>13</th>\n",
       "      <td>Carlinhos Brown</td>\n",
       "      <td>Axé</td>\n",
       "      <td>111.0</td>\n",
       "      <td>1.4</td>\n",
       "      <td>/carlinhos-brown/</td>\n",
       "      <td>Axé</td>\n",
       "    </tr>\n",
       "    <tr>\n",
       "      <th>14</th>\n",
       "      <td>Tomate</td>\n",
       "      <td>Romântico; Axé; Reggae</td>\n",
       "      <td>78.0</td>\n",
       "      <td>0.0</td>\n",
       "      <td>/tomate/</td>\n",
       "      <td>Romântico</td>\n",
       "    </tr>\n",
       "  </tbody>\n",
       "</table>\n",
       "</div>"
      ],
      "text/plain": [
       "                 Artist                    Genres  Songs  Popularity  \\\n",
       "0         Ivete Sangalo       Pop; Axé; Romântico  313.0         4.4   \n",
       "1   Chiclete com Banana                       Axé  268.0         3.8   \n",
       "2             Banda Eva    Axé; Romântico; Reggae  215.0         2.3   \n",
       "3             É O Tchan                       Axé  129.0         1.6   \n",
       "4        Claudia Leitte       Pop; Axé; Romântico  167.0         1.5   \n",
       "5     Harmonia do Samba        Axé; Samba; Pagode  237.0         0.9   \n",
       "6              Ara Ketu                  Axé; Pop  139.0         1.5   \n",
       "7       Daniela Mercury                  MPB; Axé  230.0         1.4   \n",
       "8                Olodum                       Axé   74.0         1.3   \n",
       "9               Netinho                       Axé  204.0         2.0   \n",
       "10         Asa de Águia     Axé; Forró; Romântico  267.0         1.0   \n",
       "11       Cheiro de Amor  Axé; Romântico; Chillout  185.0         1.0   \n",
       "12            Timbalada                       Axé  139.0         1.0   \n",
       "13      Carlinhos Brown                       Axé  111.0         1.4   \n",
       "14               Tomate    Romântico; Axé; Reggae   78.0         0.0   \n",
       "\n",
       "                     Link Genre_Group  \n",
       "0         /ivete-sangalo/         Pop  \n",
       "1   /chiclete-com-banana/         Axé  \n",
       "2             /banda-eva/         Axé  \n",
       "3             /e-o-tchan/         Axé  \n",
       "4        /claudia-leitte/         Pop  \n",
       "5     /harmonia-do-samba/         Axé  \n",
       "6              /ara-ketu/         Axé  \n",
       "7       /daniela-mercury/         MPB  \n",
       "8                /olodum/         Axé  \n",
       "9               /netinho/         Axé  \n",
       "10         /asa-de-aguia/         Axé  \n",
       "11       /cheiro-de-amor/         Axé  \n",
       "12            /timbalada/         Axé  \n",
       "13      /carlinhos-brown/         Axé  \n",
       "14               /tomate/   Romântico  "
      ]
     },
     "execution_count": 20,
     "metadata": {},
     "output_type": "execute_result"
    }
   ],
   "source": [
    "# Form a Genre Group column in the artist_df that will host the group that each genre/group belongs to \n",
    "# Extract the first word from the Genres column \n",
    "artist_df['Genre_Group'] = artist_df['Genres'].str.extract(r'^([\\w\\s]+?)(?:;|$)', expand=False)\n",
    "artist_df.head(15)"
   ]
  },
  {
   "cell_type": "code",
   "execution_count": 21,
   "id": "40511001",
   "metadata": {
    "execution": {
     "iopub.execute_input": "2025-09-09T16:50:09.523143Z",
     "iopub.status.busy": "2025-09-09T16:50:09.522847Z",
     "iopub.status.idle": "2025-09-09T16:50:09.526690Z",
     "shell.execute_reply": "2025-09-09T16:50:09.526215Z"
    },
    "papermill": {
     "duration": 0.012936,
     "end_time": "2025-09-09T16:50:09.527628",
     "exception": false,
     "start_time": "2025-09-09T16:50:09.514692",
     "status": "completed"
    },
    "tags": []
   },
   "outputs": [],
   "source": [
    "def match_top_genre(genres, genre_list):\n",
    "    if pd.isna(genres):\n",
    "        return \"Other\"\n",
    "    for g in genres.split(\";\"):\n",
    "        g = g.strip()\n",
    "        if g in genre_list:\n",
    "            return g   # preference for first match found\n",
    "    return \"Other\"  # if there is no match, then label as \"Other\""
   ]
  },
  {
   "cell_type": "code",
   "execution_count": 22,
   "id": "2df29223",
   "metadata": {
    "execution": {
     "iopub.execute_input": "2025-09-09T16:50:09.543613Z",
     "iopub.status.busy": "2025-09-09T16:50:09.543393Z",
     "iopub.status.idle": "2025-09-09T16:50:09.557876Z",
     "shell.execute_reply": "2025-09-09T16:50:09.557299Z"
    },
    "papermill": {
     "duration": 0.02383,
     "end_time": "2025-09-09T16:50:09.558992",
     "exception": false,
     "start_time": "2025-09-09T16:50:09.535162",
     "status": "completed"
    },
    "tags": []
   },
   "outputs": [
    {
     "data": {
      "text/plain": [
       "Genre_Group\n",
       "Other               804\n",
       "Rock                507\n",
       "Gospel/Religioso    503\n",
       "Pop                 426\n",
       "Sertanejo           250\n",
       "Indie               239\n",
       "Rap                 192\n",
       "Trilha Sonora       180\n",
       "Heavy Metal         177\n",
       "Samba               157\n",
       "Hip Hop             156\n",
       "Funk Carioca        152\n",
       "MPB                 150\n",
       "Forró               121\n",
       "Reggae               91\n",
       "Country              63\n",
       "dtype: int64"
      ]
     },
     "execution_count": 22,
     "metadata": {},
     "output_type": "execute_result"
    }
   ],
   "source": [
    "artist_df['Genre_Group'] = artist_df['Genres'].apply(lambda x: match_top_genre(x, genre_list))\n",
    "artist_df.groupby('Genre_Group').size().nlargest(16)\n"
   ]
  },
  {
   "cell_type": "markdown",
   "id": "04ff1f1f",
   "metadata": {
    "papermill": {
     "duration": 0.008649,
     "end_time": "2025-09-09T16:50:09.575783",
     "exception": false,
     "start_time": "2025-09-09T16:50:09.567134",
     "status": "completed"
    },
    "tags": []
   },
   "source": [
    "Merge the Songs and Artist DataFrames"
   ]
  },
  {
   "cell_type": "code",
   "execution_count": 23,
   "id": "88c87b82",
   "metadata": {
    "execution": {
     "iopub.execute_input": "2025-09-09T16:50:09.592031Z",
     "iopub.status.busy": "2025-09-09T16:50:09.591761Z",
     "iopub.status.idle": "2025-09-09T16:50:09.957249Z",
     "shell.execute_reply": "2025-09-09T16:50:09.956603Z"
    },
    "papermill": {
     "duration": 0.374935,
     "end_time": "2025-09-09T16:50:09.958516",
     "exception": false,
     "start_time": "2025-09-09T16:50:09.583581",
     "status": "completed"
    },
    "tags": []
   },
   "outputs": [
    {
     "data": {
      "text/html": [
       "<div>\n",
       "<style scoped>\n",
       "    .dataframe tbody tr th:only-of-type {\n",
       "        vertical-align: middle;\n",
       "    }\n",
       "\n",
       "    .dataframe tbody tr th {\n",
       "        vertical-align: top;\n",
       "    }\n",
       "\n",
       "    .dataframe thead th {\n",
       "        text-align: right;\n",
       "    }\n",
       "</style>\n",
       "<table border=\"1\" class=\"dataframe\">\n",
       "  <thead>\n",
       "    <tr style=\"text-align: right;\">\n",
       "      <th></th>\n",
       "      <th>Artist</th>\n",
       "      <th>Genres</th>\n",
       "      <th>Songs</th>\n",
       "      <th>Popularity</th>\n",
       "      <th>Link</th>\n",
       "      <th>Genre_Group</th>\n",
       "      <th>ALink</th>\n",
       "      <th>SName</th>\n",
       "      <th>Lyric</th>\n",
       "      <th>Lyric_Clean</th>\n",
       "    </tr>\n",
       "  </thead>\n",
       "  <tbody>\n",
       "    <tr>\n",
       "      <th>0</th>\n",
       "      <td>Ivete Sangalo</td>\n",
       "      <td>Pop; Axé; Romântico</td>\n",
       "      <td>313.0</td>\n",
       "      <td>4.4</td>\n",
       "      <td>/ivete-sangalo/</td>\n",
       "      <td>Pop</td>\n",
       "      <td>/ivete-sangalo/</td>\n",
       "      <td>Arerê</td>\n",
       "      <td>Tudo o que eu quero nessa vida,\\nToda vida, é\\...</td>\n",
       "      <td>tudo o que eu quero nessa vida toda vida e e a...</td>\n",
       "    </tr>\n",
       "    <tr>\n",
       "      <th>1</th>\n",
       "      <td>Ivete Sangalo</td>\n",
       "      <td>Pop; Axé; Romântico</td>\n",
       "      <td>313.0</td>\n",
       "      <td>4.4</td>\n",
       "      <td>/ivete-sangalo/</td>\n",
       "      <td>Pop</td>\n",
       "      <td>/ivete-sangalo/</td>\n",
       "      <td>Se Eu Não Te Amasse Tanto Assim</td>\n",
       "      <td>Meu coração\\nSem direção\\nVoando só por voar\\n...</td>\n",
       "      <td>meu coracao sem direcao voando so por voar sem...</td>\n",
       "    </tr>\n",
       "    <tr>\n",
       "      <th>2</th>\n",
       "      <td>Ivete Sangalo</td>\n",
       "      <td>Pop; Axé; Romântico</td>\n",
       "      <td>313.0</td>\n",
       "      <td>4.4</td>\n",
       "      <td>/ivete-sangalo/</td>\n",
       "      <td>Pop</td>\n",
       "      <td>/ivete-sangalo/</td>\n",
       "      <td>Céu da Boca</td>\n",
       "      <td>É de babaixá!\\nÉ de balacubaca!\\nÉ de babaixá!...</td>\n",
       "      <td>e de babaixa e de balacubaca e de babaixa e de...</td>\n",
       "    </tr>\n",
       "    <tr>\n",
       "      <th>3</th>\n",
       "      <td>Ivete Sangalo</td>\n",
       "      <td>Pop; Axé; Romântico</td>\n",
       "      <td>313.0</td>\n",
       "      <td>4.4</td>\n",
       "      <td>/ivete-sangalo/</td>\n",
       "      <td>Pop</td>\n",
       "      <td>/ivete-sangalo/</td>\n",
       "      <td>Quando A Chuva Passar</td>\n",
       "      <td>Quando a chuva passar\\n\\nPra quê falar\\nSe voc...</td>\n",
       "      <td>quando a chuva passar pra que falar se voce na...</td>\n",
       "    </tr>\n",
       "    <tr>\n",
       "      <th>4</th>\n",
       "      <td>Ivete Sangalo</td>\n",
       "      <td>Pop; Axé; Romântico</td>\n",
       "      <td>313.0</td>\n",
       "      <td>4.4</td>\n",
       "      <td>/ivete-sangalo/</td>\n",
       "      <td>Pop</td>\n",
       "      <td>/ivete-sangalo/</td>\n",
       "      <td>Sorte Grande</td>\n",
       "      <td>A minha sorte grande foi você cair do céu\\nMin...</td>\n",
       "      <td>a minha sorte grande foi voce cair do ceu minh...</td>\n",
       "    </tr>\n",
       "  </tbody>\n",
       "</table>\n",
       "</div>"
      ],
      "text/plain": [
       "          Artist               Genres  Songs  Popularity             Link  \\\n",
       "0  Ivete Sangalo  Pop; Axé; Romântico  313.0         4.4  /ivete-sangalo/   \n",
       "1  Ivete Sangalo  Pop; Axé; Romântico  313.0         4.4  /ivete-sangalo/   \n",
       "2  Ivete Sangalo  Pop; Axé; Romântico  313.0         4.4  /ivete-sangalo/   \n",
       "3  Ivete Sangalo  Pop; Axé; Romântico  313.0         4.4  /ivete-sangalo/   \n",
       "4  Ivete Sangalo  Pop; Axé; Romântico  313.0         4.4  /ivete-sangalo/   \n",
       "\n",
       "  Genre_Group            ALink                            SName  \\\n",
       "0         Pop  /ivete-sangalo/                            Arerê   \n",
       "1         Pop  /ivete-sangalo/  Se Eu Não Te Amasse Tanto Assim   \n",
       "2         Pop  /ivete-sangalo/                      Céu da Boca   \n",
       "3         Pop  /ivete-sangalo/            Quando A Chuva Passar   \n",
       "4         Pop  /ivete-sangalo/                     Sorte Grande   \n",
       "\n",
       "                                               Lyric  \\\n",
       "0  Tudo o que eu quero nessa vida,\\nToda vida, é\\...   \n",
       "1  Meu coração\\nSem direção\\nVoando só por voar\\n...   \n",
       "2  É de babaixá!\\nÉ de balacubaca!\\nÉ de babaixá!...   \n",
       "3  Quando a chuva passar\\n\\nPra quê falar\\nSe voc...   \n",
       "4  A minha sorte grande foi você cair do céu\\nMin...   \n",
       "\n",
       "                                         Lyric_Clean  \n",
       "0  tudo o que eu quero nessa vida toda vida e e a...  \n",
       "1  meu coracao sem direcao voando so por voar sem...  \n",
       "2  e de babaixa e de balacubaca e de babaixa e de...  \n",
       "3  quando a chuva passar pra que falar se voce na...  \n",
       "4  a minha sorte grande foi voce cair do ceu minh...  "
      ]
     },
     "execution_count": 23,
     "metadata": {},
     "output_type": "execute_result"
    }
   ],
   "source": [
    "artist_lyrics_df = pd.merge(artist_df, lyrics_df[['ALink', 'SName', 'Lyric', 'Lyric_Clean']], left_on=\"Link\", right_on=\"ALink\")\n",
    "artist_lyrics_df.head()"
   ]
  },
  {
   "cell_type": "markdown",
   "id": "1c2823ef",
   "metadata": {
    "papermill": {
     "duration": 0.007793,
     "end_time": "2025-09-09T16:50:09.974852",
     "exception": false,
     "start_time": "2025-09-09T16:50:09.967059",
     "status": "completed"
    },
    "tags": []
   },
   "source": [
    "Dataframe stats: "
   ]
  },
  {
   "cell_type": "code",
   "execution_count": 24,
   "id": "2910f97d",
   "metadata": {
    "execution": {
     "iopub.execute_input": "2025-09-09T16:50:09.991171Z",
     "iopub.status.busy": "2025-09-09T16:50:09.990906Z",
     "iopub.status.idle": "2025-09-09T16:50:10.037665Z",
     "shell.execute_reply": "2025-09-09T16:50:10.036854Z"
    },
    "papermill": {
     "duration": 0.056185,
     "end_time": "2025-09-09T16:50:10.038747",
     "exception": false,
     "start_time": "2025-09-09T16:50:09.982562",
     "status": "completed"
    },
    "tags": []
   },
   "outputs": [
    {
     "name": "stdout",
     "output_type": "stream",
     "text": [
      "Number of rows in artist_df: 4167\n",
      "Number of rows in lyrics_df: 379928\n",
      "Number of rows after joining artist and songs df: 378985\n"
     ]
    }
   ],
   "source": [
    "artist_count = artist_df['Artist'].count()\n",
    "song_count = lyrics_df['SName'].count()\n",
    "artist_song_count = artist_lyrics_df['SName'].count()\n",
    "print(f'Number of rows in artist_df: {artist_count}')\n",
    "print(f'Number of rows in lyrics_df: {song_count}')\n",
    "print(f'Number of rows after joining artist and songs df: {artist_song_count}')"
   ]
  },
  {
   "cell_type": "markdown",
   "id": "54df1904",
   "metadata": {
    "papermill": {
     "duration": 0.007911,
     "end_time": "2025-09-09T16:50:10.055042",
     "exception": false,
     "start_time": "2025-09-09T16:50:10.047131",
     "status": "completed"
    },
    "tags": []
   },
   "source": [
    "# Evaluation"
   ]
  },
  {
   "cell_type": "markdown",
   "id": "52e03499",
   "metadata": {
    "papermill": {
     "duration": 0.007481,
     "end_time": "2025-09-09T16:50:10.070378",
     "exception": false,
     "start_time": "2025-09-09T16:50:10.062897",
     "status": "completed"
    },
    "tags": []
   },
   "source": [
    "Vectorize the lyrics and encode the genres"
   ]
  },
  {
   "cell_type": "code",
   "execution_count": 25,
   "id": "36391162",
   "metadata": {
    "execution": {
     "iopub.execute_input": "2025-09-09T16:50:10.086964Z",
     "iopub.status.busy": "2025-09-09T16:50:10.086706Z",
     "iopub.status.idle": "2025-09-09T16:50:53.205612Z",
     "shell.execute_reply": "2025-09-09T16:50:53.205011Z"
    },
    "papermill": {
     "duration": 43.128857,
     "end_time": "2025-09-09T16:50:53.207085",
     "exception": false,
     "start_time": "2025-09-09T16:50:10.078228",
     "status": "completed"
    },
    "tags": []
   },
   "outputs": [],
   "source": [
    "from sklearn.feature_extraction.text import TfidfVectorizer\n",
    "\n",
    "# Convert lyrics to TF-IDF features\n",
    "vectorizer = TfidfVectorizer(max_features=5000)\n",
    "X = vectorizer.fit_transform(artist_lyrics_df['Lyric_Clean'])\n",
    "\n",
    "from sklearn.preprocessing import LabelEncoder\n",
    "\n",
    "# Convert Genre_Group into integers\n",
    "le = LabelEncoder()\n",
    "y = le.fit_transform(artist_lyrics_df['Genre_Group'])\n",
    "\n"
   ]
  },
  {
   "cell_type": "markdown",
   "id": "31f1833e",
   "metadata": {
    "papermill": {
     "duration": 0.007636,
     "end_time": "2025-09-09T16:50:53.222918",
     "exception": false,
     "start_time": "2025-09-09T16:50:53.215282",
     "status": "completed"
    },
    "tags": []
   },
   "source": [
    "Split the dataset into training and testing datasets"
   ]
  },
  {
   "cell_type": "code",
   "execution_count": 26,
   "id": "b23c6bbd",
   "metadata": {
    "execution": {
     "iopub.execute_input": "2025-09-09T16:50:53.239490Z",
     "iopub.status.busy": "2025-09-09T16:50:53.239251Z",
     "iopub.status.idle": "2025-09-09T16:50:53.514793Z",
     "shell.execute_reply": "2025-09-09T16:50:53.513969Z"
    },
    "papermill": {
     "duration": 0.285753,
     "end_time": "2025-09-09T16:50:53.516360",
     "exception": false,
     "start_time": "2025-09-09T16:50:53.230607",
     "status": "completed"
    },
    "tags": []
   },
   "outputs": [],
   "source": [
    "from sklearn.model_selection import train_test_split\n",
    "\n",
    "X_train, X_test, y_train, y_test = train_test_split(\n",
    "    X, y, test_size=0.25, random_state=42, stratify=y\n",
    ")\n"
   ]
  },
  {
   "cell_type": "markdown",
   "id": "f427aaed",
   "metadata": {
    "execution": {
     "iopub.execute_input": "2025-09-08T17:20:33.899112Z",
     "iopub.status.busy": "2025-09-08T17:20:33.898709Z",
     "iopub.status.idle": "2025-09-08T17:20:33.908485Z",
     "shell.execute_reply": "2025-09-08T17:20:33.906719Z",
     "shell.execute_reply.started": "2025-09-08T17:20:33.899088Z"
    },
    "papermill": {
     "duration": 0.007645,
     "end_time": "2025-09-09T16:50:53.532094",
     "exception": false,
     "start_time": "2025-09-09T16:50:53.524449",
     "status": "completed"
    },
    "tags": []
   },
   "source": [
    "Train the model using logistic regression"
   ]
  },
  {
   "cell_type": "code",
   "execution_count": 27,
   "id": "96cca64a",
   "metadata": {
    "execution": {
     "iopub.execute_input": "2025-09-09T16:50:53.548746Z",
     "iopub.status.busy": "2025-09-09T16:50:53.548509Z",
     "iopub.status.idle": "2025-09-09T17:21:17.547438Z",
     "shell.execute_reply": "2025-09-09T17:21:17.546532Z"
    },
    "papermill": {
     "duration": 1824.017867,
     "end_time": "2025-09-09T17:21:17.557811",
     "exception": false,
     "start_time": "2025-09-09T16:50:53.539944",
     "status": "completed"
    },
    "tags": []
   },
   "outputs": [
    {
     "name": "stdout",
     "output_type": "stream",
     "text": [
      "Best hyperparameter C: 1\n",
      "Best cross-validated accuracy: 0.4686375154698135\n"
     ]
    }
   ],
   "source": [
    "from sklearn.linear_model import LogisticRegression\n",
    "from sklearn.model_selection import GridSearchCV\n",
    "\n",
    "param_grid = {'C': [0.01, 0.1, 1, 10, 100]}  # hyperparameter search\n",
    "\n",
    "clf = LogisticRegression(solver='saga', max_iter=2000)\n",
    "\n",
    "grid = GridSearchCV(\n",
    "    estimator=clf,\n",
    "    param_grid=param_grid,\n",
    "    cv=5,\n",
    "    scoring='accuracy',\n",
    "    n_jobs=-1\n",
    ")\n",
    "grid.fit(X_train, y_train)\n",
    "\n",
    "print(\"Best hyperparameter C:\", grid.best_params_['C'])\n",
    "print(\"Best cross-validated accuracy:\", grid.best_score_)\n",
    "\n"
   ]
  },
  {
   "cell_type": "code",
   "execution_count": 28,
   "id": "ead917f5",
   "metadata": {
    "execution": {
     "iopub.execute_input": "2025-09-09T17:21:17.576365Z",
     "iopub.status.busy": "2025-09-09T17:21:17.575866Z",
     "iopub.status.idle": "2025-09-09T17:21:17.782618Z",
     "shell.execute_reply": "2025-09-09T17:21:17.781764Z"
    },
    "papermill": {
     "duration": 0.217324,
     "end_time": "2025-09-09T17:21:17.783811",
     "exception": false,
     "start_time": "2025-09-09T17:21:17.566487",
     "status": "completed"
    },
    "tags": []
   },
   "outputs": [
    {
     "name": "stdout",
     "output_type": "stream",
     "text": [
      "Test set accuracy: 0.468014818411137\n",
      "                  precision    recall  f1-score   support\n",
      "\n",
      "         Country       0.49      0.24      0.32      2180\n",
      "           Forró       0.49      0.37      0.42      2951\n",
      "    Funk Carioca       0.66      0.53      0.59      1042\n",
      "Gospel/Religioso       0.82      0.83      0.82     10282\n",
      "     Heavy Metal       0.61      0.52      0.56      4718\n",
      "         Hip Hop       0.53      0.35      0.42      3757\n",
      "           Indie       0.36      0.14      0.20      4614\n",
      "             MPB       0.38      0.43      0.41      4850\n",
      "           Other       0.36      0.42      0.39     17358\n",
      "             Pop       0.37      0.33      0.35      9723\n",
      "             Rap       0.62      0.57      0.59      3826\n",
      "          Reggae       0.70      0.17      0.27      1359\n",
      "            Rock       0.37      0.52      0.43     14644\n",
      "           Samba       0.42      0.35      0.38      3742\n",
      "       Sertanejo       0.52      0.73      0.60      7296\n",
      "   Trilha Sonora       0.41      0.04      0.07      2405\n",
      "\n",
      "        accuracy                           0.47     94747\n",
      "       macro avg       0.51      0.41      0.43     94747\n",
      "    weighted avg       0.48      0.47      0.46     94747\n",
      "\n"
     ]
    }
   ],
   "source": [
    "best_model = grid.best_estimator_\n",
    "y_test_pred = best_model.predict(X_test)\n",
    "\n",
    "from sklearn.metrics import accuracy_score, classification_report\n",
    "\n",
    "print(\"Test set accuracy:\", accuracy_score(y_test, y_test_pred))\n",
    "print(classification_report(y_test, y_test_pred, target_names=le.classes_))"
   ]
  },
  {
   "cell_type": "markdown",
   "id": "5c1a13ff",
   "metadata": {
    "papermill": {
     "duration": 0.009139,
     "end_time": "2025-09-09T17:21:17.802052",
     "exception": false,
     "start_time": "2025-09-09T17:21:17.792913",
     "status": "completed"
    },
    "tags": []
   },
   "source": [
    "# Results"
   ]
  },
  {
   "cell_type": "markdown",
   "id": "705b9c48",
   "metadata": {
    "papermill": {
     "duration": 0.009252,
     "end_time": "2025-09-09T17:21:17.821547",
     "exception": false,
     "start_time": "2025-09-09T17:21:17.812295",
     "status": "completed"
    },
    "tags": []
   },
   "source": [
    "Plot the results"
   ]
  },
  {
   "cell_type": "code",
   "execution_count": 29,
   "id": "1f52b0ce",
   "metadata": {
    "execution": {
     "iopub.execute_input": "2025-09-09T17:21:17.840167Z",
     "iopub.status.busy": "2025-09-09T17:21:17.839851Z",
     "iopub.status.idle": "2025-09-09T17:30:08.136846Z",
     "shell.execute_reply": "2025-09-09T17:30:08.136122Z"
    },
    "papermill": {
     "duration": 530.318059,
     "end_time": "2025-09-09T17:30:08.148319",
     "exception": false,
     "start_time": "2025-09-09T17:21:17.830260",
     "status": "completed"
    },
    "tags": []
   },
   "outputs": [
    {
     "data": {
      "image/png": "[encoded data removed]",
      "text/plain": [
       "<Figure size 800x600 with 1 Axes>"
      ]
     },
     "metadata": {},
     "output_type": "display_data"
    }
   ],
   "source": [
    "from sklearn.model_selection import learning_curve\n",
    "import matplotlib.pyplot as plt\n",
    "train_sizes, train_scores, val_scores = learning_curve(\n",
    "    best_model, X_train, y_train, cv=5, scoring='accuracy',\n",
    "    train_sizes=np.linspace(0.1, 1.0, 10), n_jobs=-1\n",
    ")\n",
    "\n",
    "train_mean = np.mean(train_scores, axis=1)\n",
    "train_std = np.std(train_scores, axis=1)\n",
    "val_mean = np.mean(val_scores, axis=1)\n",
    "val_std = np.std(val_scores, axis=1)\n",
    "\n",
    "plt.figure(figsize=(8,6))\n",
    "plt.plot(train_sizes, train_mean, 'o-', label='Training Accuracy')\n",
    "plt.plot(train_sizes, val_mean, 'o-', label='Validation Accuracy')\n",
    "plt.fill_between(train_sizes, train_mean-train_std, train_mean+train_std, alpha=0.2)\n",
    "plt.fill_between(train_sizes, val_mean-val_std, val_mean+val_std, alpha=0.2)\n",
    "plt.xlabel(\"Training Set Size\")\n",
    "plt.ylabel(\"Accuracy\")\n",
    "plt.title(\"Learning Curve\")\n",
    "plt.legend()\n",
    "plt.grid(True)\n",
    "plt.show()\n"
   ]
  },
  {
   "cell_type": "code",
   "execution_count": 30,
   "id": "1f0d4415",
   "metadata": {
    "execution": {
     "iopub.execute_input": "2025-09-09T17:30:08.166745Z",
     "iopub.status.busy": "2025-09-09T17:30:08.166484Z",
     "iopub.status.idle": "2025-09-09T17:30:09.673536Z",
     "shell.execute_reply": "2025-09-09T17:30:09.672767Z"
    },
    "papermill": {
     "duration": 1.519828,
     "end_time": "2025-09-09T17:30:09.676880",
     "exception": false,
     "start_time": "2025-09-09T17:30:08.157052",
     "status": "completed"
    },
    "tags": []
   },
   "outputs": [
    {
     "data": {
      "image/png": "[encoded data removed]",
      "text/plain": [
       "<Figure size 1000x800 with 2 Axes>"
      ]
     },
     "metadata": {},
     "output_type": "display_data"
    }
   ],
   "source": [
    "import seaborn as sns\n",
    "from sklearn.metrics import confusion_matrix\n",
    "\n",
    "# Compute confusion matrix\n",
    "cm = confusion_matrix(y_test, y_test_pred)\n",
    "\n",
    "# Plot heatmap\n",
    "plt.figure(figsize=(10,8))\n",
    "sns.heatmap(\n",
    "    cm,\n",
    "    annot=True,\n",
    "    fmt='d',\n",
    "    xticklabels=le.classes_,\n",
    "    yticklabels=le.classes_,\n",
    "    cmap=\"Blues\"\n",
    ")\n",
    "plt.xlabel(\"Predicted Genre\")\n",
    "plt.ylabel(\"True Genre\")\n",
    "plt.title(\"Confusion Matrix for Genre_Group Classification\")\n",
    "plt.show()\n"
   ]
  },
  {
   "cell_type": "code",
   "execution_count": null,
   "id": "dbe4f9b9",
   "metadata": {
    "papermill": {
     "duration": 0.012718,
     "end_time": "2025-09-09T17:30:09.702687",
     "exception": false,
     "start_time": "2025-09-09T17:30:09.689969",
     "status": "completed"
    },
    "tags": []
   },
   "outputs": [],
   "source": []
  }
 ],
 "metadata": {
  "kaggle": {
   "accelerator": "none",
   "dataSources": [
    {
     "datasetId": 118366,
     "sourceId": 3314065,
     "sourceType": "datasetVersion"
    }
   ],
   "dockerImageVersionId": 31089,
   "isGpuEnabled": false,
   "isInternetEnabled": true,
   "language": "python",
   "sourceType": "notebook"
  },
  "kernelspec": {
   "display_name": "Python 3",
   "language": "python",
   "name": "python3"
  },
  "language_info": {
   "codemirror_mode": {
    "name": "ipython",
    "version": 3
   },
   "file_extension": ".py",
   "mimetype": "text/x-python",
   "name": "python",
   "nbconvert_exporter": "python",
   "pygments_lexer": "ipython3",
   "version": "3.11.13"
  },
  "papermill": {
   "default_parameters": {},
   "duration": 2743.076107,
   "end_time": "2025-09-09T17:30:12.736615",
   "environment_variables": {},
   "exception": null,
   "input_path": "__notebook__.ipynb",
   "output_path": "__notebook__.ipynb",
   "parameters": {},
   "start_time": "2025-09-09T16:44:29.660508",
   "version": "2.6.0"
  }
 },
 "nbformat": 4,
 "nbformat_minor": 5
}
